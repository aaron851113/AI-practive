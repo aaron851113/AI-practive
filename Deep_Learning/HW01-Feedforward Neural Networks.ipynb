{
 "cells": [
  {
   "cell_type": "code",
   "execution_count": 166,
   "metadata": {},
   "outputs": [],
   "source": [
    "import numpy as np"
   ]
  },
  {
   "cell_type": "code",
   "execution_count": 167,
   "metadata": {},
   "outputs": [],
   "source": [
    "def Matrix(*a):\n",
    "    if len(a)==1 and isinstance(a[0], np.ndarray):\n",
    "        a = a[0]\n",
    "    return np.array([[float(x) for x in r] for r in a])\n",
    "\n",
    "def Vector(*a):\n",
    "    if len(a)==1 and isinstance(a[0], np.ndarray):\n",
    "        a = a[0]\n",
    "    return np.array([float(x) for x in a]).reshape(-1,1)"
   ]
  },
  {
   "cell_type": "code",
   "execution_count": 168,
   "metadata": {},
   "outputs": [
    {
     "data": {
      "text/latex": [
       "$\\sigma (Cf(Ax+b)+d)$"
      ],
      "text/plain": [
       "<IPython.core.display.Latex object>"
      ]
     },
     "metadata": {},
     "output_type": "display_data"
    }
   ],
   "source": [
    "from IPython.display import display, Latex\n",
    "display(Latex(\"$\\sigma (Cf(Ax+b)+d)$\"))"
   ]
  },
  {
   "cell_type": "markdown",
   "metadata": {},
   "source": [
    "# Handcraft a feedforward neural network that solves the problem \n"
   ]
  },
  {
   "cell_type": "markdown",
   "metadata": {},
   "source": [
    "## Problem 1\n",
    "input a binary representation of a number and classify by it's remainder when divided by 4 (with 100% accuracy)"
   ]
  },
  {
   "cell_type": "code",
   "execution_count": 459,
   "metadata": {},
   "outputs": [],
   "source": [
    "#定義 relu 及計算 z\n",
    "def relu(x):\n",
    "    return np.maximum(x, 0)\n",
    "\n",
    "#定義 softmax 及計算 q\n",
    "def softmax(x):\n",
    "    t = np.exp(x)\n",
    "    return t/t.sum()\n",
    "\n",
    "# 參考答案 定義 softmax 及計算 q\n",
    "def softmax(x):\n",
    "    t = np.exp(x)\n",
    "    return t/t.sum()\n",
    "\n",
    "num = 16"
   ]
  },
  {
   "cell_type": "code",
   "execution_count": 460,
   "metadata": {},
   "outputs": [],
   "source": [
    "#設定參數\n",
    "A = Matrix([-1,-1,0,0], [1,-1,0,0], [-1,1,0,0], [1,1,0,0])\n",
    "          \n",
    "b = Vector(0,0,0,0)\n",
    "\n",
    "C = Matrix([1,0,0,0], \n",
    "           [0,1,0,0], \n",
    "           [0,0,1,0],\n",
    "           [0,0,0,1])\n",
    "\n",
    "d = Vector(0,0,0,0) "
   ]
  },
  {
   "cell_type": "code",
   "execution_count": 461,
   "metadata": {},
   "outputs": [
    {
     "name": "stdout",
     "output_type": "stream",
     "text": [
      "[[0.25]\n",
      " [0.25]\n",
      " [0.25]\n",
      " [0.25]]\n",
      "0 % 4 = 0 , predict = 0 \n",
      "[[0.19324185]\n",
      " [0.30675815]\n",
      " [0.19324185]\n",
      " [0.30675815]]\n",
      "1 % 4 = 1 , predict = 1 \n",
      "[[0.19324185]\n",
      " [0.19324185]\n",
      " [0.30675815]\n",
      " [0.30675815]]\n",
      "2 % 4 = 2 , predict = 2 \n",
      "[[0.16478295]\n",
      " [0.24115171]\n",
      " [0.24115171]\n",
      " [0.35291362]]\n",
      "3 % 4 = 3 , predict = 3 \n",
      "[[0.25]\n",
      " [0.25]\n",
      " [0.25]\n",
      " [0.25]]\n",
      "4 % 4 = 0 , predict = 0 \n",
      "[[0.19324185]\n",
      " [0.30675815]\n",
      " [0.19324185]\n",
      " [0.30675815]]\n",
      "5 % 4 = 1 , predict = 1 \n",
      "[[0.19324185]\n",
      " [0.19324185]\n",
      " [0.30675815]\n",
      " [0.30675815]]\n",
      "6 % 4 = 2 , predict = 2 \n",
      "[[0.16478295]\n",
      " [0.24115171]\n",
      " [0.24115171]\n",
      " [0.35291362]]\n",
      "7 % 4 = 3 , predict = 3 \n",
      "[[0.25]\n",
      " [0.25]\n",
      " [0.25]\n",
      " [0.25]]\n",
      "8 % 4 = 0 , predict = 0 \n",
      "[[0.19324185]\n",
      " [0.30675815]\n",
      " [0.19324185]\n",
      " [0.30675815]]\n",
      "9 % 4 = 1 , predict = 1 \n",
      "[[0.19324185]\n",
      " [0.19324185]\n",
      " [0.30675815]\n",
      " [0.30675815]]\n",
      "10 % 4 = 2 , predict = 2 \n",
      "[[0.16478295]\n",
      " [0.24115171]\n",
      " [0.24115171]\n",
      " [0.35291362]]\n",
      "11 % 4 = 3 , predict = 3 \n",
      "[[0.25]\n",
      " [0.25]\n",
      " [0.25]\n",
      " [0.25]]\n",
      "12 % 4 = 0 , predict = 0 \n",
      "[[0.19324185]\n",
      " [0.30675815]\n",
      " [0.19324185]\n",
      " [0.30675815]]\n",
      "13 % 4 = 1 , predict = 1 \n",
      "[[0.19324185]\n",
      " [0.19324185]\n",
      " [0.30675815]\n",
      " [0.30675815]]\n",
      "14 % 4 = 2 , predict = 2 \n",
      "[[0.16478295]\n",
      " [0.24115171]\n",
      " [0.24115171]\n",
      " [0.35291362]]\n",
      "15 % 4 = 3 , predict = 3 \n",
      "accuracy : 100.0 %\n"
     ]
    }
   ],
   "source": [
    "cur = 0\n",
    "for i in range(num):\n",
    "    #右偏移 = ÷\n",
    "    x = np.array(Vector(*[(i>>j)%2 for j in range(4)]))\n",
    "    s_relu = sigmoid(A@x + b)\n",
    "    q_relu = softmax(C@s_relu + d)\n",
    "    print(q_relu)\n",
    "    print(\"{} % 4 = {} , predict = {} \".format(i,i%4,q_relu.argmax()))\n",
    "    cur += (i%4==q_relu.argmax())\n",
    "\n",
    "print(\"accuracy : {} %\".format(acc/num*100))"
   ]
  },
  {
   "cell_type": "markdown",
   "metadata": {},
   "source": [
    "## Problem 2\n",
    "input a binary representation of a number and classify by it's remainder when divided by 3 (with high accuracy)"
   ]
  },
  {
   "cell_type": "code",
   "execution_count": 448,
   "metadata": {},
   "outputs": [],
   "source": [
    "#設定參數\n",
    "A = Matrix([0,0,0,0], \n",
    "           [1,-1,1,-1], \n",
    "           [-1,1,-1,1],\n",
    "           [-10,10,-10,10],\n",
    "           [10,-10,10,-10])\n",
    "\n",
    "b = Vector(0.1,0,0,-12,-12)\n",
    "\n",
    "C = Matrix([1,0,0,0,0], \n",
    "           [0,1,0,1,0], \n",
    "           [0,0,1,0,1])\n",
    "\n",
    "d = Vector(0,0,0)"
   ]
  },
  {
   "cell_type": "code",
   "execution_count": 462,
   "metadata": {},
   "outputs": [
    {
     "name": "stdout",
     "output_type": "stream",
     "text": [
      "0 % 3 = 0 , predict = 0 \n",
      "1 % 3 = 1 , predict = 1 \n",
      "2 % 3 = 2 , predict = 2 \n",
      "3 % 3 = 0 , predict = 3 \n",
      "4 % 3 = 1 , predict = 0 \n",
      "5 % 3 = 2 , predict = 1 \n",
      "6 % 3 = 0 , predict = 2 \n",
      "7 % 3 = 1 , predict = 3 \n",
      "8 % 3 = 2 , predict = 0 \n",
      "9 % 3 = 0 , predict = 1 \n",
      "10 % 3 = 1 , predict = 2 \n",
      "11 % 3 = 2 , predict = 3 \n",
      "12 % 3 = 0 , predict = 0 \n",
      "13 % 3 = 1 , predict = 1 \n",
      "14 % 3 = 2 , predict = 2 \n",
      "15 % 3 = 0 , predict = 3 \n",
      "accuracy : 100.0 %\n"
     ]
    }
   ],
   "source": [
    "cur = 0\n",
    "for i in range(num):\n",
    "    x = np.array(Vector(*[(i>>j)%2 for j in range(4)]))\n",
    "    z_relu = relu(A@x + b)\n",
    "    q_relu = softmax(C @ z_relu + d)\n",
    "    print(\"{} % 3 = {} , predict = {} \".format(i,i%3,q_relu.argmax()))\n",
    "    cur += (i%3==q_relu.argmax())\n",
    "print(\"accuracy : {} %\".format(acc/num*100))"
   ]
  },
  {
   "cell_type": "markdown",
   "metadata": {},
   "source": [
    "## Problem 3\n",
    "input is a 3x3 board, each cell is either white or black. Check whether there are any 3 white cell are in a row (like the game tic-tac-toe)"
   ]
  },
  {
   "cell_type": "code",
   "execution_count": 445,
   "metadata": {},
   "outputs": [
    {
     "name": "stdout",
     "output_type": "stream",
     "text": [
      "OOO\n",
      "OO_\n",
      "_OO\n",
      "q=1\n",
      "\n",
      "___\n",
      "_OO\n",
      "_O_\n",
      "q=0\n",
      "\n",
      "O_O\n",
      "OOO\n",
      "O_O\n",
      "q=1\n",
      "\n",
      "O_O\n",
      "___\n",
      "OO_\n",
      "q=0\n",
      "\n",
      "O__\n",
      "___\n",
      "___\n",
      "q=0\n",
      "\n",
      "O_O\n",
      "OOO\n",
      "__O\n",
      "q=1\n",
      "\n",
      "O__\n",
      "O__\n",
      "__O\n",
      "q=0\n",
      "\n",
      "O__\n",
      "O_O\n",
      "___\n",
      "q=0\n",
      "\n",
      "__O\n",
      "___\n",
      "___\n",
      "q=0\n",
      "\n",
      "_OO\n",
      "O_O\n",
      "___\n",
      "q=0\n",
      "\n"
     ]
    }
   ],
   "source": [
    "A = Matrix([1,1,1,0,0,0,0,0,0], \n",
    "           [0,0,0,1,1,1,0,0,0], \n",
    "           [0,0,0,0,0,0,1,1,1], \n",
    "           [1,0,0,1,0,0,1,0,0], \n",
    "           [0,1,0,0,1,0,0,1,0], \n",
    "           [0,0,1,0,0,1,0,0,1], \n",
    "           [1,0,0,0,1,0,0,0,1], \n",
    "           [0,0,1,0,1,0,1,0,0])\n",
    "b = Vector(-2,-2,-2,-2,-2,-2,-2,-2)\n",
    "C = Matrix([-1,-1,-1,-1,-1,-1,-1,-1],[1,1,1,1,1,1,1,1])\n",
    "d = Vector(1, 0) \n",
    "for i in range(10):\n",
    "    board = np.random.randint(0,2, size=(3,3))\n",
    "    print( \"\\n\".join(\"\".join(\"_O\"[k] for k in  board[j]) for j in range(3)) )\n",
    "    x = Vector(board.ravel())\n",
    "    z = A@x+b\n",
    "    q = softmax(C@relu(A@x+b)+d)\n",
    "    print(\"q={}\\n\".format(q.argmax()))"
   ]
  },
  {
   "cell_type": "code",
   "execution_count": null,
   "metadata": {},
   "outputs": [],
   "source": []
  },
  {
   "cell_type": "code",
   "execution_count": null,
   "metadata": {},
   "outputs": [],
   "source": []
  }
 ],
 "metadata": {
  "kernelspec": {
   "display_name": "Python 3",
   "language": "python",
   "name": "python3"
  },
  "language_info": {
   "codemirror_mode": {
    "name": "ipython",
    "version": 3
   },
   "file_extension": ".py",
   "mimetype": "text/x-python",
   "name": "python",
   "nbconvert_exporter": "python",
   "pygments_lexer": "ipython3",
   "version": "3.7.3"
  }
 },
 "nbformat": 4,
 "nbformat_minor": 2
}
