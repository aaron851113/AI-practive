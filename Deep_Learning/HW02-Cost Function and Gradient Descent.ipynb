{
 "cells": [
  {
   "cell_type": "markdown",
   "metadata": {
    "colab_type": "text",
    "id": "KbYRj0xv_kEC"
   },
   "source": [
    "## HW2\n",
    "### Use numpy to write simple neural networks and use a gradient descent algorithm to train it for classifying digits in the MNIST dataset.\n",
    "    。2-1 Using cross-entropy loss\n",
    "    。2-2 Using mean-square-error loss"
   ]
  },
  {
   "cell_type": "code",
   "execution_count": 2,
   "metadata": {
    "colab": {},
    "colab_type": "code",
    "id": "LHtlxPn5_kEE"
   },
   "outputs": [],
   "source": [
    "from PIL import Image\n",
    "import numpy as np"
   ]
  },
  {
   "cell_type": "markdown",
   "metadata": {
    "colab_type": "text",
    "id": "kZUQEMhz_kEJ"
   },
   "source": [
    "先下載Mnist資料"
   ]
  },
  {
   "cell_type": "code",
   "execution_count": 3,
   "metadata": {
    "colab": {
     "base_uri": "https://localhost:8080/",
     "height": 51
    },
    "colab_type": "code",
    "executionInfo": {
     "elapsed": 2240,
     "status": "ok",
     "timestamp": 1569743354495,
     "user": {
      "displayName": "Aaron Chou",
      "photoUrl": "https://lh3.googleusercontent.com/a-/AAuE7mCAG2z2P2tZPP5mu7bU9XytjYr8MLthAX9AsyYE=s64",
      "userId": "08314081289487480339"
     },
     "user_tz": -480
    },
    "id": "ijQGk_zW_kEK",
    "outputId": "9f6852d3-abe3-4071-8aed-b6d6928bb3f1"
   },
   "outputs": [],
   "source": [
    "import os\n",
    "import urllib\n",
    "from urllib.request import urlretrieve\n",
    "dataset = 'mnist.pkl.gz'\n",
    "def reporthook(a,b,c):\n",
    "    print(\"\\rdownloading: %5.1f%%\"%(a*b*100.0/c), end=\"\")\n",
    "    \n",
    "if not os.path.isfile(dataset):\n",
    "        origin = \"https://github.com/mnielsen/neural-networks-and-deep-learning/raw/master/data/mnist.pkl.gz\"\n",
    "        print('Downloading data from %s' % origin)\n",
    "        urlretrieve(origin, dataset, reporthook=reporthook)"
   ]
  },
  {
   "cell_type": "markdown",
   "metadata": {
    "colab_type": "text",
    "id": "k385eOC5_kEO"
   },
   "source": [
    "Input Data "
   ]
  },
  {
   "cell_type": "code",
   "execution_count": 4,
   "metadata": {
    "colab": {},
    "colab_type": "code",
    "id": "RKxfpem8_kEP"
   },
   "outputs": [],
   "source": [
    "import gzip\n",
    "import pickle\n",
    "with gzip.open(dataset, 'rb') as f:\n",
    "    train_set, validation_set, test_set = pickle.load(f, encoding='latin1')"
   ]
  },
  {
   "cell_type": "markdown",
   "metadata": {
    "colab_type": "text",
    "id": "qnBOvCMf_kET"
   },
   "source": [
    "切分資料集"
   ]
  },
  {
   "cell_type": "code",
   "execution_count": 5,
   "metadata": {
    "colab": {},
    "colab_type": "code",
    "id": "k8cL0KT-_kEU"
   },
   "outputs": [],
   "source": [
    "# 設定好訓練及測試資料\n",
    "train_X, train_y = train_set\n",
    "test_X, test_y = test_set\n",
    "# 設定成我們的格式\n",
    "train_X = train_X[..., None]\n",
    "test_X = test_X[..., None]"
   ]
  },
  {
   "cell_type": "markdown",
   "metadata": {
    "colab_type": "text",
    "id": "LnJ6AeLI_kEX"
   },
   "source": [
    "查看類別數 .unique / 查看資料維度 .shape "
   ]
  },
  {
   "cell_type": "code",
   "execution_count": 6,
   "metadata": {
    "colab": {
     "base_uri": "https://localhost:8080/",
     "height": 51
    },
    "colab_type": "code",
    "executionInfo": {
     "elapsed": 723,
     "status": "ok",
     "timestamp": 1569743408257,
     "user": {
      "displayName": "Aaron Chou",
      "photoUrl": "https://lh3.googleusercontent.com/a-/AAuE7mCAG2z2P2tZPP5mu7bU9XytjYr8MLthAX9AsyYE=s64",
      "userId": "08314081289487480339"
     },
     "user_tz": -480
    },
    "id": "KaIgSEgN_kEY",
    "outputId": "f758c77a-2af1-4382-d2a0-a9c0e10fcd71",
    "scrolled": true
   },
   "outputs": [
    {
     "name": "stdout",
     "output_type": "stream",
     "text": [
      "查看訓練資料維度： (50000, 784, 1)\n",
      "查看預測的資料類別： [0 1 2 3 4 5 6 7 8 9]\n"
     ]
    }
   ],
   "source": [
    "print(\"查看訓練資料維度：\",end=\" \")\n",
    "print(train_X.shape)\n",
    "print(\"查看預測的資料類別：\",end=\" \")\n",
    "print(np.unique(train_y))\n"
   ]
  },
  {
   "cell_type": "code",
   "execution_count": 7,
   "metadata": {
    "colab": {
     "base_uri": "https://localhost:8080/",
     "height": 62
    },
    "colab_type": "code",
    "executionInfo": {
     "elapsed": 863,
     "status": "ok",
     "timestamp": 1569743417063,
     "user": {
      "displayName": "Aaron Chou",
      "photoUrl": "https://lh3.googleusercontent.com/a-/AAuE7mCAG2z2P2tZPP5mu7bU9XytjYr8MLthAX9AsyYE=s64",
      "userId": "08314081289487480339"
     },
     "user_tz": -480
    },
    "id": "4F0zLGRX_kEb",
    "outputId": "ec57136f-82f3-4dba-e0af-c3492288fc11"
   },
   "outputs": [
    {
     "name": "stdout",
     "output_type": "stream",
     "text": [
      "[5 0 4 1 9 2 1 3 1 4 3 5 3 6 1 7 2 8 6 9]\n"
     ]
    },
    {
     "data": {
      "image/png": "[encoded data removed]",
      "text/plain": [
       "<PIL.Image.Image image mode=L size=560x28 at 0x115F465C0>"
      ]
     },
     "metadata": {},
     "output_type": "display_data"
    }
   ],
   "source": [
    "from IPython.display import display\n",
    "def showX(X):\n",
    "    int_X = (X*255).clip(0,255).astype('uint8')\n",
    "    # N*784 -> N*28*28 -> 28*N*28 -> 28 * 28N\n",
    "    int_X_reshape = int_X.reshape(-1,28,28).swapaxes(0,1).reshape(28,-1)\n",
    "    display(Image.fromarray(int_X_reshape))\n",
    "# 訓練資料， X 的前 20 筆\n",
    "print(train_y[:20])\n",
    "showX(train_X[:20])"
   ]
  },
  {
   "cell_type": "code",
   "execution_count": 8,
   "metadata": {
    "colab": {},
    "colab_type": "code",
    "id": "O5GzepIO_kEf"
   },
   "outputs": [],
   "source": [
    "def softmax(x):\n",
    "    t = np.exp(x)\n",
    "    return t/t.sum(axis=(-2,-1),keepdims=True)\n",
    "def relu(x):\n",
    "    return np.maximum(x, 0)\n",
    "def sigmoid(x):\n",
    "    return 1/(1+np.exp(-x))\n",
    "\n",
    "# 微分\n",
    "def Drelu(x):\n",
    "    return (x>0).astype('float32')\n",
    "def Dsigmoid(x):\n",
    "    q = sigmoid(x)\n",
    "    return q * (1-q) "
   ]
  },
  {
   "cell_type": "markdown",
   "metadata": {
    "colab_type": "text",
    "id": "jI_QK8on_kEe"
   },
   "source": [
    "# HW2-1 Using cross-entropy loss "
   ]
  },
  {
   "cell_type": "code",
   "execution_count": 29,
   "metadata": {
    "colab": {},
    "colab_type": "code",
    "id": "6JrXIsN3_kEi"
   },
   "outputs": [],
   "source": [
    "accuracy_history = []\n",
    "loss_history = []\n",
    "n_data = train_X.shape[0]\n",
    "\n",
    "L = 0.05\n",
    "W = np.random.normal(size=(50,784))\n",
    "b = np.random.normal(size=(50,1))\n",
    "C = np.random.normal(size=(10,50))\n",
    "d = np.random.normal(size=(10,1))"
   ]
  },
  {
   "cell_type": "code",
   "execution_count": 30,
   "metadata": {
    "colab": {
     "base_uri": "https://localhost:8080/",
     "height": 578
    },
    "colab_type": "code",
    "executionInfo": {
     "elapsed": 136684,
     "status": "ok",
     "timestamp": 1569749391131,
     "user": {
      "displayName": "Aaron Chou",
      "photoUrl": "https://lh3.googleusercontent.com/a-/AAuE7mCAG2z2P2tZPP5mu7bU9XytjYr8MLthAX9AsyYE=s64",
      "userId": "08314081289487480339"
     },
     "user_tz": -480
    },
    "id": "fq42kgUp_kEn",
    "outputId": "62cee108-2283-4749-d5b4-fdfc51630ab7"
   },
   "outputs": [
    {
     "name": "stdout",
     "output_type": "stream",
     "text": [
      "Epoch    Accuracy    Loss \n",
      "0 0.6297 3.8434699867934446e-11\n",
      "1 0.7152 41.08892914927418\n",
      "2 0.7713 59.95379463391404\n",
      "3 0.8418 3.8434699867934446e-11\n",
      "4 0.8482 36.90176803660865\n",
      "5 0.8375 24.69681129532181\n",
      "6 0.8605 41.08892914927418\n",
      "7 0.8726 24.671823267481805\n",
      "8 0.8098 28.693903240653828\n",
      "9 0.7929 24.671823267481805\n",
      "10 0.8839 61.08143596221137\n",
      "11 0.8671 61.08143596221137\n",
      "12 0.8111 24.671823267481805\n",
      "13 0.8694 55.55693712928669\n",
      "14 0.8713 61.08143596221137\n",
      "15 0.8917 59.95379463391404\n"
     ]
    }
   ],
   "source": [
    "print(\"Epoch    Accuracy    Loss \")\n",
    "for epochs in range(16):\n",
    "    #隨機取樣\n",
    "    idx = np.random.choice(n_data,5000, replace=False)\n",
    "    for i in idx:\n",
    "        x = train_X[i]\n",
    "        y = train_y[i]\n",
    "        U = relu(W@x+b)\n",
    "        pred_Y = softmax(C@U+d)\n",
    "        CE = - np.log(q[y])[0] #計算cross entropy\n",
    "        y = np.eye(10)[y][:, None] #使y轉成可相減的矩陣\n",
    "        grad_d = pred_Y - y\n",
    "        grad_C = grad_d @ U.T\n",
    "        grad_b = (C.T @ grad_d ) * Drelu(W@x+b)\n",
    "        grad_W = grad_b @ x.T\n",
    "        W = W - L * grad_W\n",
    "        b = b - L * grad_b\n",
    "        C = C - L * grad_C\n",
    "        d = d - L * grad_d\n",
    "    loss_history.append(CE)\n",
    "    Pred_test_y = (C@relu(W@test_X+b)+d).argmax(axis=1).ravel()\n",
    "    acc = (Pred_test_y == test_y).mean()\n",
    "    accuracy_history.append(acc)\n",
    "    print(epochs, acc , CE)"
   ]
  },
  {
   "cell_type": "code",
   "execution_count": 31,
   "metadata": {},
   "outputs": [
    {
     "data": {
      "image/png": "[encoded data removed]",
      "text/plain": [
       "<Figure size 432x288 with 1 Axes>"
      ]
     },
     "metadata": {
      "needs_background": "light"
     },
     "output_type": "display_data"
    }
   ],
   "source": [
    "%matplotlib inline\n",
    "import matplotlib.pyplot as plt\n",
    "# accuracy 的圖\n",
    "plt.plot(accuracy_history);"
   ]
  },
  {
   "cell_type": "code",
   "execution_count": 32,
   "metadata": {},
   "outputs": [
    {
     "data": {
      "image/png": "[encoded data removed]",
      "text/plain": [
       "<Figure size 432x288 with 1 Axes>"
      ]
     },
     "metadata": {
      "needs_background": "light"
     },
     "output_type": "display_data"
    }
   ],
   "source": [
    "# loss 的圖\n",
    "plt.plot(loss_history);"
   ]
  },
  {
   "cell_type": "markdown",
   "metadata": {
    "colab_type": "text",
    "id": "Eh1THZig_kEs"
   },
   "source": [
    "# HW2-2 Using mean square error loss "
   ]
  },
  {
   "cell_type": "code",
   "execution_count": 18,
   "metadata": {
    "colab": {
     "base_uri": "https://localhost:8080/",
     "height": 221
    },
    "colab_type": "code",
    "executionInfo": {
     "elapsed": 11939,
     "status": "ok",
     "timestamp": 1569748623924,
     "user": {
      "displayName": "Aaron Chou",
      "photoUrl": "https://lh3.googleusercontent.com/a-/AAuE7mCAG2z2P2tZPP5mu7bU9XytjYr8MLthAX9AsyYE=s64",
      "userId": "08314081289487480339"
     },
     "user_tz": -480
    },
    "id": "TVE1wJsW_kEt",
    "outputId": "260d8180-669b-41da-af42-75182fde99e8"
   },
   "outputs": [
    {
     "name": "stdout",
     "output_type": "stream",
     "text": [
      "Epoch    Accuracy    Loss \n",
      "0 0.1102 1.7505057326993299\n",
      "100 0.0973 0.21142571167729168\n",
      "200 0.0787 0.13288339329980248\n",
      "300 0.0958 0.10676249000649292\n"
     ]
    }
   ],
   "source": [
    "# 參考範例 softmax regression\n",
    "W = np.random.normal(size=(10, 784))\n",
    "b = np.random.normal(size=(10, 1))\n",
    "n_data = train_X.shape[0]\n",
    "# 紀錄 loss\n",
    "loss_history = []\n",
    "accuracy_history = []\n",
    "\n",
    "L = 0.5 #learing rate\n",
    "\n",
    "print(\"Epoch    Accuracy    Loss \")\n",
    "for epoch in range(301):    \n",
    "    idx = np.random.choice(n_data, 1000, replace=False)\n",
    "    X = train_X[idx]\n",
    "    y = train_y[idx]\n",
    "    y = np.eye(10)[y][..., None]\n",
    "    Y_pred = W @ X + b  # The current predicted value of Y\n",
    "    \n",
    "    #計算該次epoch的loss(mse)與acc(供後續圖表使用)\n",
    "    mse = (sum((y-Y_pred)**2)/n_data).mean()\n",
    "    loss_history.append(mse)\n",
    "    acc = (Y_pred.argmax(axis=1).ravel() == y).mean()\n",
    "    accuracy_history.append(acc)    \n",
    "    \n",
    "    #每100次epoch就輸出一次\n",
    "    if epoch%100 == 0:\n",
    "        print(epoch, acc, mse)\n",
    "        \n",
    "    grad_W = (-2/n_data) * sum((y - Y_pred)@ X.swapaxes(1,2))  # Derivative wrt m\n",
    "    grad_b = (-2/n_data) * sum(y - Y_pred)  # Derivative wrt c\n",
    "    W = W - (L * grad_W)  # Update W\n",
    "    b = b - (L * grad_b)  # Update b\n",
    "    "
   ]
  },
  {
   "cell_type": "code",
   "execution_count": 19,
   "metadata": {
    "colab": {
     "base_uri": "https://localhost:8080/",
     "height": 68
    },
    "colab_type": "code",
    "executionInfo": {
     "elapsed": 741,
     "status": "ok",
     "timestamp": 1569748626688,
     "user": {
      "displayName": "Aaron Chou",
      "photoUrl": "https://lh3.googleusercontent.com/a-/AAuE7mCAG2z2P2tZPP5mu7bU9XytjYr8MLthAX9AsyYE=s64",
      "userId": "08314081289487480339"
     },
     "user_tz": -480
    },
    "id": "BgKW6DwN_kEw",
    "outputId": "2018bcb6-e217-45d5-ed1c-679c601e3b4f"
   },
   "outputs": [
    {
     "name": "stdout",
     "output_type": "stream",
     "text": [
      "Predict前30筆 [7 2 7 0 7 9 6 9 0 6 4 1 4 8 3 5 7 7 3 7 6 0 3 6 8 4 7 2 4 0]\n",
      "Test_y 前30筆 [7 2 1 0 4 1 4 9 5 9 0 6 9 0 1 5 9 7 3 4 9 6 6 5 4 0 7 4 0 1]\n",
      "Accuracy :  0.1515\n"
     ]
    }
   ],
   "source": [
    "pred = (W @ test_X + b).argmax(axis=1).ravel()\n",
    "print(\"Predict前30筆\",pred[:30])\n",
    "print(\"Test_y 前30筆\",test_y[:30])\n",
    "# test data 的正確率\n",
    "acc = (pred == test_y).mean()\n",
    "print(\"Accuracy : \",acc)"
   ]
  },
  {
   "cell_type": "code",
   "execution_count": 20,
   "metadata": {
    "colab": {},
    "colab_type": "code",
    "id": "vSH8ecbN_kE7"
   },
   "outputs": [
    {
     "data": {
      "image/png": "[encoded data removed]",
      "text/plain": [
       "<Figure size 432x288 with 1 Axes>"
      ]
     },
     "metadata": {
      "needs_background": "light"
     },
     "output_type": "display_data"
    }
   ],
   "source": [
    "%matplotlib inline\n",
    "import matplotlib.pyplot as plt\n",
    "# accuracy 的圖\n",
    "plt.plot(accuracy_history);"
   ]
  },
  {
   "cell_type": "code",
   "execution_count": 21,
   "metadata": {},
   "outputs": [
    {
     "data": {
      "image/png": "[encoded data removed]",
      "text/plain": [
       "<Figure size 432x288 with 1 Axes>"
      ]
     },
     "metadata": {
      "needs_background": "light"
     },
     "output_type": "display_data"
    }
   ],
   "source": [
    "# loss 的圖\n",
    "plt.plot(loss_history);"
   ]
  },
  {
   "cell_type": "code",
   "execution_count": null,
   "metadata": {},
   "outputs": [],
   "source": []
  }
 ],
 "metadata": {
  "accelerator": "GPU",
  "colab": {
   "collapsed_sections": [],
   "name": "HW2-Cost Function and Gradient Descent.ipynb",
   "provenance": []
  },
  "kernelspec": {
   "display_name": "Python 3",
   "language": "python",
   "name": "python3"
  },
  "language_info": {
   "codemirror_mode": {
    "name": "ipython",
    "version": 3
   },
   "file_extension": ".py",
   "mimetype": "text/x-python",
   "name": "python",
   "nbconvert_exporter": "python",
   "pygments_lexer": "ipython3",
   "version": "3.7.3"
  }
 },
 "nbformat": 4,
 "nbformat_minor": 1
}
