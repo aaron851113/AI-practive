{
 "cells": [
  {
   "cell_type": "markdown",
   "metadata": {},
   "source": [
    "Feedforward Network practice\n",
    "re:https://github.com/tjwei/CrashCourseML/blob/master/DIY_NN/01-FeedForward-Forward%20Propagation.ipynb"
   ]
  },
  {
   "cell_type": "code",
   "execution_count": 1,
   "metadata": {},
   "outputs": [],
   "source": [
    "import numpy as np"
   ]
  },
  {
   "cell_type": "code",
   "execution_count": 22,
   "metadata": {},
   "outputs": [],
   "source": [
    "%run magic.ipynb\n",
    "# or copy paste the cell from https://github.com/tjwei/CrashCourseML/blob/master/DIY_NN/magic.ipynb"
   ]
  },
  {
   "cell_type": "code",
   "execution_count": 21,
   "metadata": {},
   "outputs": [
    {
     "data": {
      "text/latex": [
       "$\\sigma (Cf(Ax+b)+d)$"
      ],
      "text/plain": [
       "<IPython.core.display.Latex object>"
      ]
     },
     "metadata": {},
     "output_type": "display_data"
    }
   ],
   "source": [
    "from IPython.display import display, Latex\n",
    "display(Latex(\"$\\sigma (Cf(Ax+b)+d)$\"))"
   ]
  },
  {
   "cell_type": "code",
   "execution_count": 8,
   "metadata": {},
   "outputs": [],
   "source": [
    "#請在這裡計算\n",
    "np.random.seed(1234)"
   ]
  },
  {
   "cell_type": "code",
   "execution_count": 23,
   "metadata": {},
   "outputs": [
    {
     "data": {
      "text/latex": [
       "\\begin{pmatrix}1.000&2.000&2.000&-2.000\\\\ -1.000&-1.000&-1.000&0.000\\\\ 1.000&2.000&2.000&0.000\\\\ 0.000&-2.000&-2.000&2.000\\\\ -2.000&-1.000&0.000&-2.000\\\\ 1.000&2.000&0.000&0.000\\end{pmatrix}"
      ],
      "text/plain": [
       "array([[ 1,  2,  2, -2],\n",
       "       [-1, -1, -1,  0],\n",
       "       [ 1,  2,  2,  0],\n",
       "       [ 0, -2, -2,  2],\n",
       "       [-2, -1,  0, -2],\n",
       "       [ 1,  2,  0,  0]])"
      ]
     },
     "metadata": {},
     "output_type": "display_data"
    },
    {
     "data": {
      "text/latex": [
       "\\begin{pmatrix}1.000&1.000&-2.000&-1.000&1.000&-2.000\\end{pmatrix}"
      ],
      "text/plain": [
       "array([ 1,  1, -2, -1,  1, -2])"
      ]
     },
     "metadata": {},
     "output_type": "display_data"
    },
    {
     "data": {
      "text/latex": [
       "\\begin{pmatrix}1.000&0.000&1.000&2.000&-1.000&1.000\\\\ 1.000&1.000&0.000&-1.000&1.000&2.000\\\\ 0.000&1.000&2.000&-1.000&2.000&-2.000\\end{pmatrix}"
      ],
      "text/plain": [
       "array([[ 1,  0,  1,  2, -1,  1],\n",
       "       [ 1,  1,  0, -1,  1,  2],\n",
       "       [ 0,  1,  2, -1,  2, -2]])"
      ]
     },
     "metadata": {},
     "output_type": "display_data"
    },
    {
     "data": {
      "text/latex": [
       "\\begin{pmatrix}2.000&-1.000&-1.000\\end{pmatrix}"
      ],
      "text/plain": [
       "array([ 2, -1, -1])"
      ]
     },
     "metadata": {},
     "output_type": "display_data"
    },
    {
     "data": {
      "text/latex": [
       "\\begin{pmatrix}2.000&-1.000&2.000&-2.000\\end{pmatrix}"
      ],
      "text/plain": [
       "array([ 2, -1,  2, -2])"
      ]
     },
     "metadata": {},
     "output_type": "display_data"
    }
   ],
   "source": [
    "# 參考答案，設定權重\n",
    "#%run -i solutions/ff_init_variables.py\n",
    "A = np.random.randint(-2,3,size=(6,4))\n",
    "b = np.random.randint(-2,3,size=(6))\n",
    "C = np.random.randint(-2,3,size=(3,6))\n",
    "d = np.random.randint(-2,3,size=(3))\n",
    "x = np.random.randint(-2,3,size=(4))\n",
    "display(A)\n",
    "display(b)\n",
    "display(C)\n",
    "display(d)\n",
    "display(x)"
   ]
  },
  {
   "cell_type": "code",
   "execution_count": 26,
   "metadata": {},
   "outputs": [
    {
     "data": {
      "text/latex": [
       "\\begin{pmatrix}9.000&0.000&2.000&0.000&2.000&0.000\\end{pmatrix}"
      ],
      "text/plain": [
       "array([9, 0, 2, 0, 2, 0])"
      ]
     },
     "metadata": {},
     "output_type": "display_data"
    },
    {
     "data": {
      "text/latex": [
       "\\begin{pmatrix}1.000&0.119&0.881&0.001&0.881&0.119\\end{pmatrix}"
      ],
      "text/plain": [
       "array([9.99876605e-01, 1.19202922e-01, 8.80797078e-01, 9.11051194e-04,\n",
       "       8.80797078e-01, 1.19202922e-01])"
      ]
     },
     "metadata": {},
     "output_type": "display_data"
    }
   ],
   "source": [
    "# 參考答案 定義 relu, sigmoid 及計算 z\n",
    "# %run -i solutions/ff_compute_z.py\n",
    "def relu(x):\n",
    "    return np.maximum(x, 0)\n",
    "def sigmoid(x):\n",
    "    return 1/(1+np.exp(-x))\n",
    "z_relu = relu(A@x + b)\n",
    "z_sigmoid = sigmoid(A@x + b )\n",
    "display(z_relu)\n",
    "display(z_sigmoid)"
   ]
  },
  {
   "cell_type": "code",
   "execution_count": 28,
   "metadata": {},
   "outputs": [
    {
     "data": {
      "text/latex": [
       "\\begin{pmatrix}0.721&0.265&0.013\\end{pmatrix}"
      ],
      "text/plain": [
       "array([0.72139918, 0.26538793, 0.01321289])"
      ]
     },
     "metadata": {},
     "output_type": "display_data"
    },
    {
     "data": {
      "text/latex": [
       "\\begin{pmatrix}0.610&0.093&0.297\\end{pmatrix}"
      ],
      "text/plain": [
       "array([0.60980691, 0.09272259, 0.2974705 ])"
      ]
     },
     "metadata": {},
     "output_type": "display_data"
    }
   ],
   "source": [
    "# 參考答案 定義 softmax 及計算 q\n",
    "# %run -i solutions/ff_compute_q.py\n",
    "def softmax(x):\n",
    "    t = np.exp(x)\n",
    "    return t/t.sum()\n",
    "q_relu = softmax(C @ relu(A @ x + b) + d)\n",
    "q_sigmoid = softmax(C @ sigmoid(A @ x + b) + d)\n",
    "\n",
    "display(q_relu)\n",
    "display(q_sigmoid)"
   ]
  },
  {
   "cell_type": "markdown",
   "metadata": {},
   "source": [
    "### 練習\n",
    "設計一個網路:<br />\n",
    "<br />\n",
    "    。輸入是二進位 0 ~ 15<br />\n",
    "    。輸出依照對於 3 的餘數分成三類"
   ]
  },
  {
   "cell_type": "code",
   "execution_count": 32,
   "metadata": {},
   "outputs": [
    {
     "data": {
      "text/latex": [
       "\\begin{pmatrix}1.000\\\\ 0.000\\\\ 1.000\\\\ 1.000\\end{pmatrix}"
      ],
      "text/plain": [
       "array([[1.],\n",
       "       [0.],\n",
       "       [1.],\n",
       "       [1.]])"
      ]
     },
     "execution_count": 32,
     "metadata": {},
     "output_type": "execute_result"
    }
   ],
   "source": [
    "# Hint 下面產生數字 i 的 2 進位向量\n",
    "i = 13\n",
    "x = np.array(Vector(*[(i>>j)%2 for j in range(4)]))\n",
    "x"
   ]
  },
  {
   "cell_type": "code",
   "execution_count": 46,
   "metadata": {},
   "outputs": [
    {
     "name": "stdout",
     "output_type": "stream",
     "text": [
      "i=0, i%3=0, q=0\n",
      "i=1, i%3=1, q=1\n",
      "i=2, i%3=2, q=2\n",
      "i=3, i%3=0, q=0\n",
      "i=4, i%3=1, q=1\n",
      "i=5, i%3=2, q=2\n",
      "i=6, i%3=0, q=0\n",
      "i=7, i%3=1, q=1\n",
      "i=8, i%3=2, q=2\n",
      "i=9, i%3=0, q=0\n",
      "i=10, i%3=1, q=1\n",
      "i=11, i%3=2, q=2\n",
      "i=12, i%3=0, q=0\n",
      "i=13, i%3=1, q=1\n",
      "i=14, i%3=2, q=2\n",
      "i=15, i%3=0, q=0\n",
      "accuracy : 100.0 %\n"
     ]
    }
   ],
   "source": [
    "# 參考解答\n",
    "# %run -i solutions/ff_mod3.py\n",
    "A = Matrix([0,0,0,0], \n",
    "           [1,-1,1,-1], \n",
    "           [-1,1,-1,1],\n",
    "           [-10,10,-10,10],\n",
    "           [10,-10,10,-10],\n",
    "          )\n",
    "b = Vector(0.1,0,0,-12,-12)\n",
    "\n",
    "C = Matrix([1,0,0,0,0], \n",
    "           [0,1,0,1,0], \n",
    "           [0,0,1,0,1],\n",
    "          )\n",
    "d = Vector(0,0,0) \n",
    "acc = 0\n",
    "for i in range(16):\n",
    "    x = np.array(Vector(*[(i>>j)%2 for j in range(4)]))\n",
    "    q = softmax(C@relu(A@x+b)+d)\n",
    "    print(\"i={}, i%3={}, q={}\".format(i, i%3, q.argmax()))\n",
    "    acc += (i%3==q.argmax())\n",
    "print(\"accuracy : {} %\".format(acc/16*100))"
   ]
  },
  {
   "cell_type": "markdown",
   "metadata": {},
   "source": [
    "### 練習\n",
    "設計一個網路來判斷井字棋是否有連成直線(只需要判斷其中一方即可):\n",
    "\n",
    "    。輸入是 9 維向量，0 代表空格，1 代表有下子\n",
    "    。輸出是二維(softmax)或一維(sigmoid)皆可，用來代表 True, False\n",
    "有連線的例子<br />\n",
    "_X_ <br />\n",
    "X__<br />\n",
    "XXX<br />\n",
    "<br />\n",
    "XXX<br />\n",
    "XX_<br />\n",
    "_XX<br />\n",
    "<br />\n",
    "__X<br />\n",
    "_XX<br />\n",
    "X__<br />\n",
    "沒連線的例子<br />\n",
    "<br />\n",
    "XX_<br />\n",
    "X__<br />\n",
    "_XX<br />\n",
    "<br />\n",
    "_X_<br />\n",
    "XX_<br />\n",
    "X_X<br />\n",
    "<br />\n",
    "__X<br />\n",
    "_XX<br />\n",
    "_X_<br />\n",
    "<br />\n"
   ]
  },
  {
   "cell_type": "code",
   "execution_count": 42,
   "metadata": {},
   "outputs": [
    {
     "name": "stdout",
     "output_type": "stream",
     "text": [
      "X__\n",
      "XX_\n",
      "__X\n",
      "q=1\n",
      "\n",
      "__X\n",
      "X__\n",
      "XX_\n",
      "q=0\n",
      "\n",
      "_XX\n",
      "__X\n",
      "X_X\n",
      "q=1\n",
      "\n",
      "__X\n",
      "XX_\n",
      "_XX\n",
      "q=0\n",
      "\n",
      "X__\n",
      "_XX\n",
      "__X\n",
      "q=1\n",
      "\n",
      "XX_\n",
      "XXX\n",
      "XXX\n",
      "q=1\n",
      "\n",
      "__X\n",
      "_XX\n",
      "_XX\n",
      "q=1\n",
      "\n",
      "___\n",
      "X_X\n",
      "___\n",
      "q=0\n",
      "\n",
      "__X\n",
      "XXX\n",
      "X_X\n",
      "q=1\n",
      "\n",
      "XXX\n",
      "_XX\n",
      "XXX\n",
      "q=1\n",
      "\n"
     ]
    }
   ],
   "source": [
    "#參考答案\n",
    "#%run -i solutions/ff_tic_tac_toe.py\n",
    "A = Matrix([1,1,1,0,0,0,0,0,0], \n",
    "           [0,0,0,1,1,1,0,0,0], \n",
    "           [0,0,0,0,0,0,1,1,1], \n",
    "           [1,0,0,1,0,0,1,0,0], \n",
    "           [0,1,0,0,1,0,0,1,0], \n",
    "           [0,0,1,0,0,1,0,0,1], \n",
    "           [1,0,0,0,1,0,0,0,1], \n",
    "           [0,0,1,0,1,0,1,0,0])\n",
    "b = Vector(-2,-2,-2,-2,-2,-2,-2,-2)\n",
    "C = Matrix([-1,-1,-1,-1,-1,-1,-1,-1],[1,1,1,1,1,1,1,1])\n",
    "d = Vector(1, 0) \n",
    "for i in range(10):\n",
    "    board = np.random.randint(0,2, size=(3,3))\n",
    "    print( \"\\n\".join(\"\".join(\"_X\"[k] for k in  board[j]) for j in range(3)) )\n",
    "    x = Vector(board.ravel())\n",
    "    z = A@x+b\n",
    "    q = softmax(C@relu(A@x+b)+d)\n",
    "    print(\"q={}\\n\".format(q.argmax()))"
   ]
  },
  {
   "cell_type": "code",
   "execution_count": null,
   "metadata": {},
   "outputs": [],
   "source": []
  }
 ],
 "metadata": {
  "kernelspec": {
   "display_name": "Python 3",
   "language": "python",
   "name": "python3"
  },
  "language_info": {
   "codemirror_mode": {
    "name": "ipython",
    "version": 3
   },
   "file_extension": ".py",
   "mimetype": "text/x-python",
   "name": "python",
   "nbconvert_exporter": "python",
   "pygments_lexer": "ipython3",
   "version": "3.7.3"
  }
 },
 "nbformat": 4,
 "nbformat_minor": 2
}
