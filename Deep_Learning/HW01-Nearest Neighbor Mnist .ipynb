{
 "cells": [
  {
   "cell_type": "code",
   "execution_count": 0,
   "metadata": {
    "colab": {},
    "colab_type": "code",
    "id": "R0lr6SpajYu1"
   },
   "outputs": [],
   "source": [
    "import numpy as np\n",
    "from PIL import Image"
   ]
  },
  {
   "cell_type": "code",
   "execution_count": 2,
   "metadata": {
    "colab": {
     "base_uri": "https://localhost:8080/",
     "height": 51
    },
    "colab_type": "code",
    "executionInfo": {
     "elapsed": 4681,
     "status": "ok",
     "timestamp": 1568645535239,
     "user": {
      "displayName": "Aaron Chou",
      "photoUrl": "https://lh3.googleusercontent.com/a-/AAuE7mCAG2z2P2tZPP5mu7bU9XytjYr8MLthAX9AsyYE=s64",
      "userId": "08314081289487480339"
     },
     "user_tz": -480
    },
    "id": "dRA99bSPjYu_",
    "outputId": "c6e3cb52-446d-4480-e91c-9a323da01c31"
   },
   "outputs": [
    {
     "name": "stdout",
     "output_type": "stream",
     "text": [
      "Downloading data from https://github.com/mnielsen/neural-networks-and-deep-learning/raw/master/data/mnist.pkl.gz\n",
      "downloading: 100.0%"
     ]
    }
   ],
   "source": [
    "import os\n",
    "import urllib\n",
    "from urllib.request import urlretrieve\n",
    "dataset = 'mnist.pkl.gz'\n",
    "\n",
    "#顯示下載進度\n",
    "def reporthook(a,b,c):\n",
    "    print(\"\\rdownloading: %5.1f%%\"%(a*b*100.0/c), end=\"\")\n",
    "\n",
    "#檢查是否有dataset，若無則到以下網址下載\n",
    "if not os.path.isfile(dataset):\n",
    "        origin = \"https://github.com/mnielsen/neural-networks-and-deep-learning/raw/master/data/mnist.pkl.gz\"\n",
    "        print('Downloading data from %s' % origin)\n",
    "        urlretrieve(origin, dataset, reporthook=reporthook)"
   ]
  },
  {
   "cell_type": "code",
   "execution_count": 4,
   "metadata": {
    "colab": {
     "base_uri": "https://localhost:8080/",
     "height": 153
    },
    "colab_type": "code",
    "executionInfo": {
     "elapsed": 2265,
     "status": "ok",
     "timestamp": 1568645541457,
     "user": {
      "displayName": "Aaron Chou",
      "photoUrl": "https://lh3.googleusercontent.com/a-/AAuE7mCAG2z2P2tZPP5mu7bU9XytjYr8MLthAX9AsyYE=s64",
      "userId": "08314081289487480339"
     },
     "user_tz": -480
    },
    "id": "_K0nDzDejYvF",
    "outputId": "824bc4e0-66d4-48ae-f48a-6a3a985476a6"
   },
   "outputs": [
    {
     "data": {
      "text/plain": [
       "(array([[0., 0., 0., ..., 0., 0., 0.],\n",
       "        [0., 0., 0., ..., 0., 0., 0.],\n",
       "        [0., 0., 0., ..., 0., 0., 0.],\n",
       "        ...,\n",
       "        [0., 0., 0., ..., 0., 0., 0.],\n",
       "        [0., 0., 0., ..., 0., 0., 0.],\n",
       "        [0., 0., 0., ..., 0., 0., 0.]], dtype=float32),\n",
       " array([5, 0, 4, ..., 8, 4, 8]))"
      ]
     },
     "execution_count": 4,
     "metadata": {
      "tags": []
     },
     "output_type": "execute_result"
    }
   ],
   "source": [
    "import gzip\n",
    "import pickle\n",
    "\n",
    "#使用with作open，可以限制f只在with中使用，程式離開with即f.close()\n",
    "with gzip.open(dataset,'rb') as f :\n",
    "    train_set, validation_set, test_set = pickle.load(f,encoding='latin1')\n",
    "\n",
    "train_set"
   ]
  },
  {
   "cell_type": "code",
   "execution_count": 6,
   "metadata": {
    "colab": {
     "base_uri": "https://localhost:8080/",
     "height": 34
    },
    "colab_type": "code",
    "executionInfo": {
     "elapsed": 869,
     "status": "ok",
     "timestamp": 1568645554612,
     "user": {
      "displayName": "Aaron Chou",
      "photoUrl": "https://lh3.googleusercontent.com/a-/AAuE7mCAG2z2P2tZPP5mu7bU9XytjYr8MLthAX9AsyYE=s64",
      "userId": "08314081289487480339"
     },
     "user_tz": -480
    },
    "id": "yE0fDqf6jYvU",
    "outputId": "f29d2008-49a3-4a5f-e6ad-4a2e30a68069"
   },
   "outputs": [
    {
     "name": "stdout",
     "output_type": "stream",
     "text": [
      "[5 0 4 1 9 2 1 3 1 4 3 5 3 6 1 7 2 8 6 9]\n"
     ]
    }
   ],
   "source": [
    "#切分資料與預測\n",
    "train_X, train_y = train_set \n",
    "#train_X = train_set[0]  train_set = train_set[1]\n",
    "test_X, test_y = test_set\n",
    "\n",
    "#查看MNIST的y前20筆\n",
    "print(train_y[:20])"
   ]
  },
  {
   "cell_type": "code",
   "execution_count": 7,
   "metadata": {
    "colab": {
     "base_uri": "https://localhost:8080/",
     "height": 1000
    },
    "colab_type": "code",
    "executionInfo": {
     "elapsed": 1069,
     "status": "ok",
     "timestamp": 1568645558680,
     "user": {
      "displayName": "Aaron Chou",
      "photoUrl": "https://lh3.googleusercontent.com/a-/AAuE7mCAG2z2P2tZPP5mu7bU9XytjYr8MLthAX9AsyYE=s64",
      "userId": "08314081289487480339"
     },
     "user_tz": -480
    },
    "id": "SDMAlYnPjYvZ",
    "outputId": "6e63a4f7-8ed2-491c-f732-0ad33b1a8c8d"
   },
   "outputs": [
    {
     "name": "stdout",
     "output_type": "stream",
     "text": [
      "inital x[1] data\n",
      "[[0.         0.         0.         0.         0.         0.\n",
      "  0.         0.         0.         0.         0.         0.\n",
      "  0.         0.         0.         0.         0.         0.\n",
      "  0.         0.         0.         0.         0.         0.\n",
      "  0.         0.         0.         0.         0.         0.\n",
      "  0.         0.         0.         0.         0.         0.\n",
      "  0.         0.         0.         0.         0.         0.\n",
      "  0.         0.         0.         0.         0.         0.\n",
      "  0.         0.         0.         0.         0.         0.\n",
      "  0.         0.         0.         0.         0.         0.\n",
      "  0.         0.         0.         0.         0.         0.\n",
      "  0.         0.         0.         0.         0.         0.\n",
      "  0.         0.         0.         0.         0.         0.\n",
      "  0.         0.         0.         0.         0.         0.\n",
      "  0.         0.         0.         0.         0.         0.\n",
      "  0.         0.         0.         0.         0.         0.\n",
      "  0.         0.         0.         0.         0.         0.\n",
      "  0.         0.         0.         0.         0.         0.\n",
      "  0.         0.         0.         0.         0.         0.\n",
      "  0.         0.         0.         0.         0.         0.\n",
      "  0.         0.         0.         0.         0.         0.\n",
      "  0.         0.         0.         0.         0.         0.\n",
      "  0.         0.         0.         0.         0.         0.\n",
      "  0.         0.         0.         0.         0.         0.\n",
      "  0.         0.         0.         0.         0.         0.\n",
      "  0.         0.         0.01171875 0.0703125  0.0703125  0.0703125\n",
      "  0.4921875  0.53125    0.68359375 0.1015625  0.6484375  0.99609375\n",
      "  0.96484375 0.49609375 0.         0.         0.         0.\n",
      "  0.         0.         0.         0.         0.         0.\n",
      "  0.         0.         0.1171875  0.140625   0.3671875  0.6015625\n",
      "  0.6640625  0.98828125 0.98828125 0.98828125 0.98828125 0.98828125\n",
      "  0.87890625 0.671875   0.98828125 0.9453125  0.76171875 0.25\n",
      "  0.         0.         0.         0.         0.         0.\n",
      "  0.         0.         0.         0.         0.         0.19140625\n",
      "  0.9296875  0.98828125 0.98828125 0.98828125 0.98828125 0.98828125\n",
      "  0.98828125 0.98828125 0.98828125 0.98046875 0.36328125 0.3203125\n",
      "  0.3203125  0.21875    0.15234375 0.         0.         0.\n",
      "  0.         0.         0.         0.         0.         0.\n",
      "  0.         0.         0.         0.0703125  0.85546875 0.98828125\n",
      "  0.98828125 0.98828125 0.98828125 0.98828125 0.7734375  0.7109375\n",
      "  0.96484375 0.94140625 0.         0.         0.         0.\n",
      "  0.         0.         0.         0.         0.         0.\n",
      "  0.         0.         0.         0.         0.         0.\n",
      "  0.         0.         0.3125     0.609375   0.41796875 0.98828125\n",
      "  0.98828125 0.80078125 0.04296875 0.         0.16796875 0.6015625\n",
      "  0.         0.         0.         0.         0.         0.\n",
      "  0.         0.         0.         0.         0.         0.\n",
      "  0.         0.         0.         0.         0.         0.\n",
      "  0.         0.0546875  0.00390625 0.6015625  0.98828125 0.3515625\n",
      "  0.         0.         0.         0.         0.         0.\n",
      "  0.         0.         0.         0.         0.         0.\n",
      "  0.         0.         0.         0.         0.         0.\n",
      "  0.         0.         0.         0.         0.         0.\n",
      "  0.         0.54296875 0.98828125 0.7421875  0.0078125  0.\n",
      "  0.         0.         0.         0.         0.         0.\n",
      "  0.         0.         0.         0.         0.         0.\n",
      "  0.         0.         0.         0.         0.         0.\n",
      "  0.         0.         0.         0.         0.         0.04296875\n",
      "  0.7421875  0.98828125 0.2734375  0.         0.         0.\n",
      "  0.         0.         0.         0.         0.         0.\n",
      "  0.         0.         0.         0.         0.         0.\n",
      "  0.         0.         0.         0.         0.         0.\n",
      "  0.         0.         0.         0.         0.13671875 0.94140625\n",
      "  0.87890625 0.625      0.421875   0.00390625 0.         0.\n",
      "  0.         0.         0.         0.         0.         0.\n",
      "  0.         0.         0.         0.         0.         0.\n",
      "  0.         0.         0.         0.         0.         0.\n",
      "  0.         0.         0.         0.31640625 0.9375     0.98828125\n",
      "  0.98828125 0.46484375 0.09765625 0.         0.         0.\n",
      "  0.         0.         0.         0.         0.         0.\n",
      "  0.         0.         0.         0.         0.         0.\n",
      "  0.         0.         0.         0.         0.         0.\n",
      "  0.         0.         0.17578125 0.7265625  0.98828125 0.98828125\n",
      "  0.5859375  0.10546875 0.         0.         0.         0.\n",
      "  0.         0.         0.         0.         0.         0.\n",
      "  0.         0.         0.         0.         0.         0.\n",
      "  0.         0.         0.         0.         0.         0.\n",
      "  0.         0.0625     0.36328125 0.984375   0.98828125 0.73046875\n",
      "  0.         0.         0.         0.         0.         0.\n",
      "  0.         0.         0.         0.         0.         0.\n",
      "  0.         0.         0.         0.         0.         0.\n",
      "  0.         0.         0.         0.         0.         0.\n",
      "  0.         0.97265625 0.98828125 0.97265625 0.25       0.\n",
      "  0.         0.         0.         0.         0.         0.\n",
      "  0.         0.         0.         0.         0.         0.\n",
      "  0.         0.         0.         0.         0.         0.\n",
      "  0.         0.         0.1796875  0.5078125  0.71484375 0.98828125\n",
      "  0.98828125 0.80859375 0.0078125  0.         0.         0.\n",
      "  0.         0.         0.         0.         0.         0.\n",
      "  0.         0.         0.         0.         0.         0.\n",
      "  0.         0.         0.         0.         0.15234375 0.578125\n",
      "  0.89453125 0.98828125 0.98828125 0.98828125 0.9765625  0.7109375\n",
      "  0.         0.         0.         0.         0.         0.\n",
      "  0.         0.         0.         0.         0.         0.\n",
      "  0.         0.         0.         0.         0.         0.\n",
      "  0.09375    0.4453125  0.86328125 0.98828125 0.98828125 0.98828125\n",
      "  0.98828125 0.78515625 0.3046875  0.         0.         0.\n",
      "  0.         0.         0.         0.         0.         0.\n",
      "  0.         0.         0.         0.         0.         0.\n",
      "  0.         0.         0.08984375 0.2578125  0.83203125 0.98828125\n",
      "  0.98828125 0.98828125 0.98828125 0.7734375  0.31640625 0.0078125\n",
      "  0.         0.         0.         0.         0.         0.\n",
      "  0.         0.         0.         0.         0.         0.\n",
      "  0.         0.         0.         0.         0.0703125  0.66796875\n",
      "  0.85546875 0.98828125 0.98828125 0.98828125 0.98828125 0.76171875\n",
      "  0.3125     0.03515625 0.         0.         0.         0.\n",
      "  0.         0.         0.         0.         0.         0.\n",
      "  0.         0.         0.         0.         0.         0.\n",
      "  0.21484375 0.671875   0.8828125  0.98828125 0.98828125 0.98828125\n",
      "  0.98828125 0.953125   0.51953125 0.04296875 0.         0.\n",
      "  0.         0.         0.         0.         0.         0.\n",
      "  0.         0.         0.         0.         0.         0.\n",
      "  0.         0.         0.         0.         0.53125    0.98828125\n",
      "  0.98828125 0.98828125 0.828125   0.52734375 0.515625   0.0625\n",
      "  0.         0.         0.         0.         0.         0.\n",
      "  0.         0.         0.         0.         0.         0.\n",
      "  0.         0.         0.         0.         0.         0.\n",
      "  0.         0.         0.         0.         0.         0.\n",
      "  0.         0.         0.         0.         0.         0.\n",
      "  0.         0.         0.         0.         0.         0.\n",
      "  0.         0.         0.         0.         0.         0.\n",
      "  0.         0.         0.         0.         0.         0.\n",
      "  0.         0.         0.         0.         0.         0.\n",
      "  0.         0.         0.         0.         0.         0.\n",
      "  0.         0.         0.         0.         0.         0.\n",
      "  0.         0.         0.         0.         0.         0.\n",
      "  0.         0.         0.         0.         0.         0.\n",
      "  0.         0.         0.         0.         0.         0.\n",
      "  0.         0.         0.         0.         0.         0.\n",
      "  0.         0.         0.         0.         0.         0.\n",
      "  0.         0.         0.         0.        ]]\n",
      "len(x[1]): 784\n",
      "value*255:\n",
      "[[  0   0   0   0   0   0   0   0   0   0   0   0   0   0   0   0   0   0\n",
      "    0   0   0   0   0   0   0   0   0   0   0   0   0   0   0   0   0   0\n",
      "    0   0   0   0   0   0   0   0   0   0   0   0   0   0   0   0   0   0\n",
      "    0   0   0   0   0   0   0   0   0   0   0   0   0   0   0   0   0   0\n",
      "    0   0   0   0   0   0   0   0   0   0   0   0   0   0   0   0   0   0\n",
      "    0   0   0   0   0   0   0   0   0   0   0   0   0   0   0   0   0   0\n",
      "    0   0   0   0   0   0   0   0   0   0   0   0   0   0   0   0   0   0\n",
      "    0   0   0   0   0   0   0   0   0   0   0   0   0   0   0   0   0   0\n",
      "    0   0   0   0   0   0   0   0   2  17  17  17 125 135 174  25 165 254\n",
      "  246 126   0   0   0   0   0   0   0   0   0   0   0   0  29  35  93 153\n",
      "  169 252 252 252 252 252 224 171 252 241 194  63   0   0   0   0   0   0\n",
      "    0   0   0   0   0  48 237 252 252 252 252 252 252 252 252 250  92  81\n",
      "   81  55  38   0   0   0   0   0   0   0   0   0   0   0   0  17 218 252\n",
      "  252 252 252 252 197 181 246 240   0   0   0   0   0   0   0   0   0   0\n",
      "    0   0   0   0   0   0   0   0  79 155 106 252 252 204  10   0  42 153\n",
      "    0   0   0   0   0   0   0   0   0   0   0   0   0   0   0   0   0   0\n",
      "    0  13   0 153 252  89   0   0   0   0   0   0   0   0   0   0   0   0\n",
      "    0   0   0   0   0   0   0   0   0   0   0   0   0 138 252 189   1   0\n",
      "    0   0   0   0   0   0   0   0   0   0   0   0   0   0   0   0   0   0\n",
      "    0   0   0   0   0  10 189 252  69   0   0   0   0   0   0   0   0   0\n",
      "    0   0   0   0   0   0   0   0   0   0   0   0   0   0   0   0  34 240\n",
      "  224 159 107   0   0   0   0   0   0   0   0   0   0   0   0   0   0   0\n",
      "    0   0   0   0   0   0   0   0   0  80 239 252 252 118  24   0   0   0\n",
      "    0   0   0   0   0   0   0   0   0   0   0   0   0   0   0   0   0   0\n",
      "    0   0  44 185 252 252 149  26   0   0   0   0   0   0   0   0   0   0\n",
      "    0   0   0   0   0   0   0   0   0   0   0   0   0  15  92 251 252 186\n",
      "    0   0   0   0   0   0   0   0   0   0   0   0   0   0   0   0   0   0\n",
      "    0   0   0   0   0   0   0 248 252 248  63   0   0   0   0   0   0   0\n",
      "    0   0   0   0   0   0   0   0   0   0   0   0   0   0  45 129 182 252\n",
      "  252 206   1   0   0   0   0   0   0   0   0   0   0   0   0   0   0   0\n",
      "    0   0   0   0  38 147 228 252 252 252 249 181   0   0   0   0   0   0\n",
      "    0   0   0   0   0   0   0   0   0   0   0   0  23 113 220 252 252 252\n",
      "  252 200  77   0   0   0   0   0   0   0   0   0   0   0   0   0   0   0\n",
      "    0   0  22  65 212 252 252 252 252 197  80   1   0   0   0   0   0   0\n",
      "    0   0   0   0   0   0   0   0   0   0  17 170 218 252 252 252 252 194\n",
      "   79   8   0   0   0   0   0   0   0   0   0   0   0   0   0   0   0   0\n",
      "   54 171 225 252 252 252 252 243 132  10   0   0   0   0   0   0   0   0\n",
      "    0   0   0   0   0   0   0   0   0   0 135 252 252 252 211 134 131  15\n",
      "    0   0   0   0   0   0   0   0   0   0   0   0   0   0   0   0   0   0\n",
      "    0   0   0   0   0   0   0   0   0   0   0   0   0   0   0   0   0   0\n",
      "    0   0   0   0   0   0   0   0   0   0   0   0   0   0   0   0   0   0\n",
      "    0   0   0   0   0   0   0   0   0   0   0   0   0   0   0   0   0   0\n",
      "    0   0   0   0   0   0   0   0   0   0   0   0   0   0   0   0   0   0\n",
      "    0   0   0   0   0   0   0   0   0   0]]\n",
      "轉換資料的格式：每28個數字一組共28組 -->28個數字為圖片的一小塊?\n",
      "[[  0   0   0   0   0   0   0   0   0   0   0   0   0   0   0   0   0   0\n",
      "    0   0   0   0   0   0   0   0   0   0]\n",
      " [  0   0   0   0   0   0   0   0   0   0   0   0   0   0   0   0   0   0\n",
      "    0   0   0   0   0   0   0   0   0   0]\n",
      " [  0   0   0   0   0   0   0   0   0   0   0   0   0   0   0   0   0   0\n",
      "    0   0   0   0   0   0   0   0   0   0]\n",
      " [  0   0   0   0   0   0   0   0   0   0   0   0   0   0   0   0   0   0\n",
      "    0   0   0   0   0   0   0   0   0   0]\n",
      " [  0   0   0   0   0   0   0   0   0   0   0   0   0   0   0   0   0   0\n",
      "    0   0   0   0   0   0   0   0   0   0]\n",
      " [  0   0   0   0   0   0   0   0   0   0   0   0   2  17  17  17 125 135\n",
      "  174  25 165 254 246 126   0   0   0   0]\n",
      " [  0   0   0   0   0   0   0   0  29  35  93 153 169 252 252 252 252 252\n",
      "  224 171 252 241 194  63   0   0   0   0]\n",
      " [  0   0   0   0   0   0   0  48 237 252 252 252 252 252 252 252 252 250\n",
      "   92  81  81  55  38   0   0   0   0   0]\n",
      " [  0   0   0   0   0   0   0  17 218 252 252 252 252 252 197 181 246 240\n",
      "    0   0   0   0   0   0   0   0   0   0]\n",
      " [  0   0   0   0   0   0   0   0  79 155 106 252 252 204  10   0  42 153\n",
      "    0   0   0   0   0   0   0   0   0   0]\n",
      " [  0   0   0   0   0   0   0   0   0  13   0 153 252  89   0   0   0   0\n",
      "    0   0   0   0   0   0   0   0   0   0]\n",
      " [  0   0   0   0   0   0   0   0   0   0   0 138 252 189   1   0   0   0\n",
      "    0   0   0   0   0   0   0   0   0   0]\n",
      " [  0   0   0   0   0   0   0   0   0   0   0  10 189 252  69   0   0   0\n",
      "    0   0   0   0   0   0   0   0   0   0]\n",
      " [  0   0   0   0   0   0   0   0   0   0   0   0  34 240 224 159 107   0\n",
      "    0   0   0   0   0   0   0   0   0   0]\n",
      " [  0   0   0   0   0   0   0   0   0   0   0   0   0  80 239 252 252 118\n",
      "   24   0   0   0   0   0   0   0   0   0]\n",
      " [  0   0   0   0   0   0   0   0   0   0   0   0   0   0  44 185 252 252\n",
      "  149  26   0   0   0   0   0   0   0   0]\n",
      " [  0   0   0   0   0   0   0   0   0   0   0   0   0   0   0  15  92 251\n",
      "  252 186   0   0   0   0   0   0   0   0]\n",
      " [  0   0   0   0   0   0   0   0   0   0   0   0   0   0   0   0   0 248\n",
      "  252 248  63   0   0   0   0   0   0   0]\n",
      " [  0   0   0   0   0   0   0   0   0   0   0   0   0   0  45 129 182 252\n",
      "  252 206   1   0   0   0   0   0   0   0]\n",
      " [  0   0   0   0   0   0   0   0   0   0   0   0  38 147 228 252 252 252\n",
      "  249 181   0   0   0   0   0   0   0   0]\n",
      " [  0   0   0   0   0   0   0   0   0   0  23 113 220 252 252 252 252 200\n",
      "   77   0   0   0   0   0   0   0   0   0]\n",
      " [  0   0   0   0   0   0   0   0  22  65 212 252 252 252 252 197  80   1\n",
      "    0   0   0   0   0   0   0   0   0   0]\n",
      " [  0   0   0   0   0   0  17 170 218 252 252 252 252 194  79   8   0   0\n",
      "    0   0   0   0   0   0   0   0   0   0]\n",
      " [  0   0   0   0  54 171 225 252 252 252 252 243 132  10   0   0   0   0\n",
      "    0   0   0   0   0   0   0   0   0   0]\n",
      " [  0   0   0   0 135 252 252 252 211 134 131  15   0   0   0   0   0   0\n",
      "    0   0   0   0   0   0   0   0   0   0]\n",
      " [  0   0   0   0   0   0   0   0   0   0   0   0   0   0   0   0   0   0\n",
      "    0   0   0   0   0   0   0   0   0   0]\n",
      " [  0   0   0   0   0   0   0   0   0   0   0   0   0   0   0   0   0   0\n",
      "    0   0   0   0   0   0   0   0   0   0]\n",
      " [  0   0   0   0   0   0   0   0   0   0   0   0   0   0   0   0   0   0\n",
      "    0   0   0   0   0   0   0   0   0   0]]\n"
     ]
    },
    {
     "data": {
      "image/png": "[encoded data removed]",
      "text/plain": [
       "<PIL.Image.Image image mode=L size=28x28 at 0x7F1521BAB748>"
      ]
     },
     "metadata": {
      "tags": []
     },
     "output_type": "display_data"
    }
   ],
   "source": [
    "#練習查看單一筆資料與印出\n",
    "print(\"inital x[1] data\")\n",
    "print(train_X[:1])\n",
    "print(\"len(x[1]):\",train_X[:1].shape[1]) #每一筆X是長度784的array\n",
    "\n",
    "#將數值乘上255倍 #clip(0,255)->取0~255之間的整數 \n",
    "try_X = (train_X[:1]*255).clip(0,255).astype('uint8') \n",
    "print(\"value*255:\")\n",
    "print(try_X)\n",
    "\n",
    "#將這784個數字轉為每28個為一組，共28組\n",
    "#print(try_x.reshape(-1,28,28))\n",
    "print(\"轉換資料的格式：每28個數字一組共28組 -->28個數字為圖片的一小塊?\")\n",
    "try_X_reshape = try_X.reshape(-1,28,28).swapaxes(0,1).reshape(28,-1)\n",
    "print(try_X_reshape)\n",
    "\n",
    "#將此陣列轉成圖形輸出\n",
    "display(Image.fromarray(try_X_reshape))"
   ]
  },
  {
   "cell_type": "code",
   "execution_count": 8,
   "metadata": {
    "colab": {
     "base_uri": "https://localhost:8080/",
     "height": 45
    },
    "colab_type": "code",
    "executionInfo": {
     "elapsed": 938,
     "status": "ok",
     "timestamp": 1568645562246,
     "user": {
      "displayName": "Aaron Chou",
      "photoUrl": "https://lh3.googleusercontent.com/a-/AAuE7mCAG2z2P2tZPP5mu7bU9XytjYr8MLthAX9AsyYE=s64",
      "userId": "08314081289487480339"
     },
     "user_tz": -480
    },
    "id": "BK3pZz0GjYvg",
    "outputId": "e54a68c9-9e7c-48f4-8d44-de4db21f82e7"
   },
   "outputs": [
    {
     "data": {
      "image/png": "[encoded data removed]",
      "text/plain": [
       "<PIL.Image.Image image mode=L size=560x28 at 0x7F1521333A58>"
      ]
     },
     "metadata": {
      "tags": []
     },
     "output_type": "display_data"
    }
   ],
   "source": [
    "#查看MNIST的x前20筆\n",
    "from IPython.display import display \n",
    "def showX(X):\n",
    "    int_X = (X*255).clip(0,255).astype('uint8')\n",
    "    # N*784 -> N*28*28 -> 28*N*28 -> 28 * 28N\n",
    "    int_X_reshape = int_X.reshape(-1,28,28).swapaxes(0,1).reshape(28,-1)\n",
    "    display(Image.fromarray(int_X_reshape))\n",
    "# 訓練資料， X 的前 20 筆\n",
    "showX(train_X[:20])"
   ]
  },
  {
   "cell_type": "markdown",
   "metadata": {
    "colab": {},
    "colab_type": "code",
    "id": "0hhrnSebjYvl"
   },
   "source": [
    "# 使用KNN : K=3"
   ]
  },
  {
   "cell_type": "code",
   "execution_count": 10,
   "metadata": {
    "colab": {
     "base_uri": "https://localhost:8080/",
     "height": 68
    },
    "colab_type": "code",
    "executionInfo": {
     "elapsed": 8545,
     "status": "ok",
     "timestamp": 1568645624022,
     "user": {
      "displayName": "Aaron Chou",
      "photoUrl": "https://lh3.googleusercontent.com/a-/AAuE7mCAG2z2P2tZPP5mu7bU9XytjYr8MLthAX9AsyYE=s64",
      "userId": "08314081289487480339"
     },
     "user_tz": -480
    },
    "id": "tY3Lq8NwjYvp",
    "outputId": "68e6b66a-3332-4186-b8a3-1eda5e5ccca1"
   },
   "outputs": [
    {
     "data": {
      "text/plain": [
       "KNeighborsClassifier(algorithm='auto', leaf_size=30, metric='minkowski',\n",
       "                     metric_params=None, n_jobs=-1, n_neighbors=3, p=2,\n",
       "                     weights='uniform')"
      ]
     },
     "execution_count": 10,
     "metadata": {
      "tags": []
     },
     "output_type": "execute_result"
    }
   ],
   "source": [
    "from sklearn.neighbors import KNeighborsClassifier\n",
    "#k選擇為3\n",
    "neigh = KNeighborsClassifier(n_neighbors=3,n_jobs=-1)\n",
    "neigh.fit(train_X,train_y)"
   ]
  },
  {
   "cell_type": "code",
   "execution_count": 0,
   "metadata": {
    "colab": {},
    "colab_type": "code",
    "id": "5FN-sJe6jYvw"
   },
   "outputs": [],
   "source": [
    "pred = neigh.predict(test_X)"
   ]
  },
  {
   "cell_type": "code",
   "execution_count": 12,
   "metadata": {
    "colab": {
     "base_uri": "https://localhost:8080/",
     "height": 34
    },
    "colab_type": "code",
    "executionInfo": {
     "elapsed": 1004,
     "status": "ok",
     "timestamp": 1568646212694,
     "user": {
      "displayName": "Aaron Chou",
      "photoUrl": "https://lh3.googleusercontent.com/a-/AAuE7mCAG2z2P2tZPP5mu7bU9XytjYr8MLthAX9AsyYE=s64",
      "userId": "08314081289487480339"
     },
     "user_tz": -480
    },
    "id": "-82RjqYljYvz",
    "outputId": "13fc8458-176d-4054-94b8-abf35e05c7f5"
   },
   "outputs": [
    {
     "data": {
      "text/plain": [
       "array([7, 2, 1, 0, 4, 1, 4, 9, 5, 9, 0, 6, 9, 0, 1, 5, 9, 7, 3, 4])"
      ]
     },
     "execution_count": 12,
     "metadata": {
      "tags": []
     },
     "output_type": "execute_result"
    }
   ],
   "source": [
    "#輸出預測前20筆\n",
    "pred[:20]"
   ]
  },
  {
   "cell_type": "code",
   "execution_count": 13,
   "metadata": {
    "colab": {
     "base_uri": "https://localhost:8080/",
     "height": 34
    },
    "colab_type": "code",
    "executionInfo": {
     "elapsed": 1281,
     "status": "ok",
     "timestamp": 1568646215772,
     "user": {
      "displayName": "Aaron Chou",
      "photoUrl": "https://lh3.googleusercontent.com/a-/AAuE7mCAG2z2P2tZPP5mu7bU9XytjYr8MLthAX9AsyYE=s64",
      "userId": "08314081289487480339"
     },
     "user_tz": -480
    },
    "id": "mZ5ORc1tjYv4",
    "outputId": "bcb7f304-bf54-45af-b73d-5d1dbad9280f"
   },
   "outputs": [
    {
     "data": {
      "text/plain": [
       "array([7, 2, 1, 0, 4, 1, 4, 9, 5, 9, 0, 6, 9, 0, 1, 5, 9, 7, 3, 4])"
      ]
     },
     "execution_count": 13,
     "metadata": {
      "tags": []
     },
     "output_type": "execute_result"
    }
   ],
   "source": [
    "#測試資料的前20筆\n",
    "test_y[:20]"
   ]
  },
  {
   "cell_type": "code",
   "execution_count": 15,
   "metadata": {
    "colab": {
     "base_uri": "https://localhost:8080/",
     "height": 34
    },
    "colab_type": "code",
    "executionInfo": {
     "elapsed": 1299,
     "status": "ok",
     "timestamp": 1568646229180,
     "user": {
      "displayName": "Aaron Chou",
      "photoUrl": "https://lh3.googleusercontent.com/a-/AAuE7mCAG2z2P2tZPP5mu7bU9XytjYr8MLthAX9AsyYE=s64",
      "userId": "08314081289487480339"
     },
     "user_tz": -480
    },
    "id": "QqgGJ49ZjYv8",
    "outputId": "66731c80-3218-494e-d5a6-498de764006e"
   },
   "outputs": [
    {
     "name": "stdout",
     "output_type": "stream",
     "text": [
      "96.81 %\n"
     ]
    }
   ],
   "source": [
    "# 正確率\n",
    "print((pred == test_y).mean()*100,'%')"
   ]
  },
  {
   "cell_type": "markdown",
   "metadata": {
    "colab": {},
    "colab_type": "code",
    "id": "E5W2Ez9jmctx"
   },
   "source": [
    "# 使用PCA降低維度 n=50"
   ]
  },
  {
   "cell_type": "code",
   "execution_count": 23,
   "metadata": {},
   "outputs": [
    {
     "data": {
      "text/plain": [
       "(50000, 50)"
      ]
     },
     "execution_count": 23,
     "metadata": {},
     "output_type": "execute_result"
    }
   ],
   "source": [
    "from sklearn.decomposition import PCA\n",
    "pca = PCA(n_components=50)\n",
    "train_X = pca.fit_transform(train_set[0])\n",
    "test_X = pca.transform(test_set[0])\n",
    "train_X.shape"
   ]
  },
  {
   "cell_type": "code",
   "execution_count": 24,
   "metadata": {},
   "outputs": [
    {
     "name": "stdout",
     "output_type": "stream",
     "text": [
      "97.45 %\n"
     ]
    }
   ],
   "source": [
    "neigh = KNeighborsClassifier(n_neighbors=3,n_jobs=-1)\n",
    "neigh.fit(train_X,train_y)\n",
    "pred_pca = neigh.predict(test_X)\n",
    "# 正確率\n",
    "print((pred_pca == test_y).mean()*100,'%')"
   ]
  },
  {
   "cell_type": "code",
   "execution_count": null,
   "metadata": {},
   "outputs": [],
   "source": []
  }
 ],
 "metadata": {
  "accelerator": "GPU",
  "colab": {
   "collapsed_sections": [],
   "name": "HW1-Nearest Neighbor Mnist .ipynb",
   "provenance": [],
   "version": "0.3.2"
  },
  "kernelspec": {
   "display_name": "Python 3",
   "language": "python",
   "name": "python3"
  },
  "language_info": {
   "codemirror_mode": {
    "name": "ipython",
    "version": 3
   },
   "file_extension": ".py",
   "mimetype": "text/x-python",
   "name": "python",
   "nbconvert_exporter": "python",
   "pygments_lexer": "ipython3",
   "version": "3.7.3"
  }
 },
 "nbformat": 4,
 "nbformat_minor": 1
}
