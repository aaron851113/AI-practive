{
 "cells": [
  {
   "cell_type": "markdown",
   "metadata": {},
   "source": [
    "## Dataset"
   ]
  },
  {
   "cell_type": "markdown",
   "metadata": {},
   "source": [
    "## torch.utils.data.dataset"
   ]
  },
  {
   "cell_type": "code",
   "execution_count": 1,
   "metadata": {},
   "outputs": [],
   "source": [
    "from torch.utils.data.dataset import Dataset\n",
    "import torch\n",
    "import numpy as np"
   ]
  },
  {
   "cell_type": "markdown",
   "metadata": {},
   "source": [
    "* 定義一個自己的TxtDataset子類別"
   ]
  },
  {
   "cell_type": "code",
   "execution_count": 2,
   "metadata": {},
   "outputs": [],
   "source": [
    "class TxtDataset(Dataset): #建立一個資料集物件\n",
    "    def __init__(self):\n",
    "        self.Data = np.asarray([[1,2],[3,4],[5,6],[7,8]]) #代表一段文字\n",
    "        self.Label = np.asarray([[1],[2],[0],[1]]) #代表文字類別(標籤)\n",
    "        \n",
    "    def __getitem__(self,index):\n",
    "        txt = torch.LongTensor(self.Data[index])\n",
    "        label = torch.LongTensor(self.Label[index])\n",
    "        return txt,label\n",
    "    \n",
    "    def __len__(self):\n",
    "        return len(self.Data)"
   ]
  },
  {
   "cell_type": "markdown",
   "metadata": {},
   "source": [
    "* 建立一個TetDataset物件 並呼叫函式"
   ]
  },
  {
   "cell_type": "code",
   "execution_count": 6,
   "metadata": {},
   "outputs": [
    {
     "name": "stdout",
     "output_type": "stream",
     "text": [
      "(tensor([3, 4]), tensor([2]))\n",
      "4\n"
     ]
    }
   ],
   "source": [
    "TxtData = TxtDataset()\n",
    "print(TxtData[1])\n",
    "print(TxtData.__len__())"
   ]
  },
  {
   "cell_type": "code",
   "execution_count": 7,
   "metadata": {},
   "outputs": [],
   "source": [
    "from torch.utils.data import DataLoader"
   ]
  },
  {
   "cell_type": "code",
   "execution_count": 8,
   "metadata": {},
   "outputs": [],
   "source": [
    "test_loader = DataLoader(TxtData,batch_size=2,shuffle=False,num_workers=4)"
   ]
  },
  {
   "cell_type": "code",
   "execution_count": 9,
   "metadata": {},
   "outputs": [
    {
     "name": "stdout",
     "output_type": "stream",
     "text": [
      "i: 0\n",
      "data: tensor([[1, 2],\n",
      "        [3, 4]])\n",
      "Label: tensor([[1],\n",
      "        [2]])\n",
      "i: 1\n",
      "data: tensor([[5, 6],\n",
      "        [7, 8]])\n",
      "Label: tensor([[0],\n",
      "        [1]])\n"
     ]
    }
   ],
   "source": [
    "for i,traindata in enumerate(test_loader):\n",
    "    print('i:',i)\n",
    "    Data,Label=traindata\n",
    "    print('data:',Data)\n",
    "    print('Label:',Label)"
   ]
  },
  {
   "cell_type": "markdown",
   "metadata": {},
   "source": [
    "## torchvision.datsaets (For Imagefolder )"
   ]
  },
  {
   "cell_type": "code",
   "execution_count": 1,
   "metadata": {},
   "outputs": [],
   "source": [
    "import torchvision.datasets as dset"
   ]
  },
  {
   "cell_type": "code",
   "execution_count": 17,
   "metadata": {},
   "outputs": [],
   "source": [
    "import tqdm # 包裝迭代器，顯示進度條\n",
    "import cv2\n",
    "import numpy as np \n",
    "from PIL import Image \n",
    "import matplotlib.pyplot as plt\n",
    "import torchvision.transforms as transforms "
   ]
  },
  {
   "cell_type": "markdown",
   "metadata": {},
   "source": [
    ">class torchvision.transforms.ToTensor <br />\n",
    "功能： <br />\n",
    "把shape=(H x W x C) 的畫素值為 [0, 255] 的 PIL.Image 和 numpy.ndarray\n",
    "轉換成shape=(C x H x W)的畫素值範圍為[0.0, 1.0]的 torch.FloatTensor。\n",
    "\n",
    ">class torchvision.transforms.Normalize(mean, std) <br />\n",
    "功能：<br />\n",
    "此轉換類作用於torch.*Tensor。給定均值(R, G, B)和標準差(R, G, B)，用公式channel = (channel - mean) / std進行規範化。"
   ]
  },
  {
   "cell_type": "code",
   "execution_count": 18,
   "metadata": {},
   "outputs": [],
   "source": [
    "# 引入transforms.ToTensor()功能： range [0, 255] -> [0.0,1.0] \n",
    "transform1 = transforms.Compose([transforms.ToTensor()])\n",
    "mnist = dset.MNIST(root='../data/mnist',train=True,transform=transform1,download=False)"
   ]
  },
  {
   "cell_type": "code",
   "execution_count": 33,
   "metadata": {},
   "outputs": [
    {
     "name": "stdout",
     "output_type": "stream",
     "text": [
      "Detail of datasets : Dataset MNIST\n",
      "    Number of datapoints: 60000\n",
      "    Root location: ../data/mnist\n",
      "    Split: Train\n",
      "    StandardTransform\n",
      "Transform: Compose(\n",
      "               ToTensor()\n",
      "           )\n",
      "> img size : torch.Size([1, 28, 28])\n",
      "> target : 5\n",
      "> Reshape img size : torch.Size([1, 28, 28])\n"
     ]
    },
    {
     "data": {
      "text/plain": [
       "Text(0.5, 1.0, '5')"
      ]
     },
     "execution_count": 33,
     "metadata": {},
     "output_type": "execute_result"
    },
    {
     "data": {
      "image/png": "[encoded data removed]",
      "text/plain": [
       "<Figure size 432x288 with 1 Axes>"
      ]
     },
     "metadata": {
      "needs_background": "light"
     },
     "output_type": "display_data"
    }
   ],
   "source": [
    "print('Detail of datasets : {}'.format(mnist))\n",
    "\n",
    "img,target = mnist[0]\n",
    "print('> img size : {}'.format(img.size()))\n",
    "print('> target : {}'.format(target))\n",
    "\n",
    "show_img = img.numpy()*255\n",
    "show_img = show_img.reshape(28,28)\n",
    "print('> Reshape img size : {}'.format(img.size()))\n",
    "\n",
    "plt.imshow(show_img,cmap='gray')\n",
    "plt.title(str(target))\n"
   ]
  },
  {
   "cell_type": "markdown",
   "metadata": {},
   "source": [
    "## torchvision.datasets.ImageFolder"
   ]
  },
  {
   "cell_type": "markdown",
   "metadata": {},
   "source": [
    "(https://www.itread01.com/content/1542309028.html)"
   ]
  },
  {
   "cell_type": "code",
   "execution_count": null,
   "metadata": {},
   "outputs": [],
   "source": [
    "dset = dset.ImageFolder(root='root_path',transform=None,loader=default_loader)"
   ]
  },
  {
   "cell_type": "markdown",
   "metadata": {},
   "source": [
    "## PIL　"
   ]
  },
  {
   "cell_type": "code",
   "execution_count": null,
   "metadata": {},
   "outputs": [],
   "source": [
    "# PIL 讀取影象\n",
    "img = Image.open(img_path).convert('RGB') # 讀取影象 \n",
    "img2 = transform1(img) # 歸一化到 [0.0,1.0] \n",
    "print(\"img2 = \",img2) #轉化為PILImage並顯示 \n",
    "img_2 = transforms.ToPILImage()(img2).convert('RGB') \n",
    "print(\"img_2 = \",img_2) \n",
    "img_2.show()"
   ]
  }
 ],
 "metadata": {
  "kernelspec": {
   "display_name": "Python 3",
   "language": "python",
   "name": "python3"
  },
  "language_info": {
   "codemirror_mode": {
    "name": "ipython",
    "version": 3
   },
   "file_extension": ".py",
   "mimetype": "text/x-python",
   "name": "python",
   "nbconvert_exporter": "python",
   "pygments_lexer": "ipython3",
   "version": "3.6.7"
  }
 },
 "nbformat": 4,
 "nbformat_minor": 4
}
