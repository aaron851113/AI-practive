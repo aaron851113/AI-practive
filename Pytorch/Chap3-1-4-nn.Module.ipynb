{
 "cells": [
  {
   "cell_type": "markdown",
   "metadata": {},
   "source": [
    "# nn.Module (模組)"
   ]
  },
  {
   "cell_type": "code",
   "execution_count": 2,
   "metadata": {},
   "outputs": [
    {
     "data": {
      "text/plain": [
       "'\\ntorch.nn是专门为神经网络设计的模块化接口。nn构建于autograd之上，可以用来定义和运行神经网络。\\nnn.Module是nn中十分重要的类,包含网络各层的定义及forward方法。\\n定义自已的网络：\\n    需要继承nn.Module类，并实现forward方法。\\n    一般把网络中具有可学习参数的层放在构造函数__init__()中，\\n    不具有可学习参数的层(如ReLU)可放在构造函数中，也可不放在构造函数中(而在forward中使用nn.functional来代替)\\n    \\n    只要在nn.Module的子类中定义了forward函数，backward函数就会被自动实现(利用Autograd)。\\n    在forward函数中可以使用任何Variable支持的函数，毕竟在整个pytorch构建的图中，是Variable在流动。还可以使用\\n    if,for,print,log等python语法.\\n    \\n    注：Pytorch基于nn.Module构建的模型中，只支持mini-batch的Variable输入方式，\\n    比如，只有一张输入图片，也需要变成 N x C x H x W 的形式：\\n    \\n    input_image = torch.FloatTensor(1, 28, 28)\\n    input_image = Variable(input_image)\\n    input_image = input_image.unsqueeze(0)   # 1 x 1 x 28 x 28\\n    \\n'"
      ]
     },
     "execution_count": 2,
     "metadata": {},
     "output_type": "execute_result"
    }
   ],
   "source": [
    "\"\"\"\n",
    "torch.nn是专门为神经网络设计的模块化接口。nn构建于autograd之上，可以用来定义和运行神经网络。\n",
    "nn.Module是nn中十分重要的类,包含网络各层的定义及forward方法。\n",
    "定义自已的网络：\n",
    "    需要继承nn.Module类，并实现forward方法。\n",
    "    一般把网络中具有可学习参数的层放在构造函数__init__()中，\n",
    "    不具有可学习参数的层(如ReLU)可放在构造函数中，也可不放在构造函数中(而在forward中使用nn.functional来代替)\n",
    "    \n",
    "    只要在nn.Module的子类中定义了forward函数，backward函数就会被自动实现(利用Autograd)。\n",
    "    在forward函数中可以使用任何Variable支持的函数，毕竟在整个pytorch构建的图中，是Variable在流动。还可以使用\n",
    "    if,for,print,log等python语法.\n",
    "    \n",
    "    注：Pytorch基于nn.Module构建的模型中，只支持mini-batch的Variable输入方式，\n",
    "    比如，只有一张输入图片，也需要变成 N x C x H x W 的形式：\n",
    "    \n",
    "    input_image = torch.FloatTensor(1, 28, 28)\n",
    "    input_image = Variable(input_image)\n",
    "    input_image = input_image.unsqueeze(0)   # 1 x 1 x 28 x 28\n",
    "    \n",
    "\"\"\"\n",
    "\n",
    "# https://blog.csdn.net/u012609509/article/details/81203436"
   ]
  },
  {
   "cell_type": "code",
   "execution_count": 3,
   "metadata": {},
   "outputs": [],
   "source": [
    "import torch\n",
    "import torch.nn as nn\n",
    "import torch.nn.functional as F\n",
    "from torch.autograd import Variable"
   ]
  },
  {
   "cell_type": "code",
   "execution_count": 8,
   "metadata": {},
   "outputs": [],
   "source": [
    "class Net(nn.Module):\n",
    "    def __init__(self):\n",
    "        #nn.Module的子类函数必须在构造函数中执行父类的构造函数\n",
    "        super(Net,self).__init__() # 等价与nn.Module.__init__()\n",
    "        \n",
    "        # nn.Conv2d返回的是一个Conv2d class的一个对象，该类中包含forward函数的实现\n",
    "        # 当调用self.conv1(input)的时候，就会调用该类的forward函数\n",
    "        self.conv1 = nn.Conv2d(1, 6, (5, 5))   # output (N, Channel_{out}, H_{out}, W_{out})`\n",
    "        self.conv2 = nn.Conv2d(6, 16, (5, 5))\n",
    "        self.fc1 = nn.Linear(256, 120)\n",
    "        self.fc2 = nn.Linear(120, 84)\n",
    "        self.fc3 = nn.Linear(84, 10)\n",
    "    \n",
    "    def forward(self,x):\n",
    "        x = F.max_pool2d(F.relu(self.conv1(x)),(2,2)) # F.max_pool2d的返回值是一个Variable\n",
    "        x = F.max_pool2d(F.relu(self.conv2(x)),(2,2))\n",
    "        x = x.view(x.size()[0], -1)\n",
    "        x = F.relu(self.fc1(x))\n",
    "        x = F.relu(self.fc2(x))\n",
    "        x = F.relu(self.fc3(x))\n",
    "        return x\n",
    "    \n",
    "def output_name_and_params(net):\n",
    "    for name, parameters in net.named_parameters():\n",
    "        print('name: {}, param: {}'.format(name, parameters))\n",
    "    "
   ]
  },
  {
   "cell_type": "code",
   "execution_count": 14,
   "metadata": {},
   "outputs": [
    {
     "name": "stdout",
     "output_type": "stream",
     "text": [
      "net: Net(\n",
      "  (conv1): Conv2d(1, 6, kernel_size=(5, 5), stride=(1, 1))\n",
      "  (conv2): Conv2d(6, 16, kernel_size=(5, 5), stride=(1, 1))\n",
      "  (fc1): Linear(in_features=256, out_features=120, bias=True)\n",
      "  (fc2): Linear(in_features=120, out_features=84, bias=True)\n",
      "  (fc3): Linear(in_features=84, out_features=10, bias=True)\n",
      ")\n",
      "params: <generator object Module.parameters at 0x7f3ce0825518>\n",
      "output: tensor([[   nan,    nan,    nan,    nan,    nan,    nan,    nan,    nan,    nan,\n",
      "            nan],\n",
      "        [   nan,    nan,    nan,    nan,    nan,    nan,    nan,    nan,    nan,\n",
      "            nan],\n",
      "        [0.0000, 0.0000, 0.0000, 0.0000, 0.0246, 0.0000, 0.0200, 0.0000, 0.0957,\n",
      "         0.0900],\n",
      "        [0.0000, 0.0000, 0.0000, 0.0000, 0.0246, 0.0000, 0.0200, 0.0000, 0.0957,\n",
      "         0.0900],\n",
      "        [0.0000, 0.0000, 0.0000, 0.0000, 0.0246, 0.0000, 0.0200, 0.0000, 0.0957,\n",
      "         0.0900],\n",
      "        [0.0000, 0.0000, 0.0000, 0.0000, 0.0246, 0.0000, 0.0200, 0.0000, 0.0957,\n",
      "         0.0900],\n",
      "        [0.0000, 0.0000, 0.0000, 0.0000, 0.0246, 0.0000, 0.0200, 0.0000, 0.0957,\n",
      "         0.0900],\n",
      "        [0.0000, 0.0000, 0.0000, 0.0000, 0.0246, 0.0000, 0.0200, 0.0000, 0.0957,\n",
      "         0.0900],\n",
      "        [0.0000, 0.0000, 0.0000, 0.0000, 0.0246, 0.0000, 0.0200, 0.0000, 0.0957,\n",
      "         0.0900],\n",
      "        [0.0000, 0.0000, 0.0000, 0.0000, 0.0246, 0.0000, 0.0200, 0.0000, 0.0957,\n",
      "         0.0900],\n",
      "        [0.0000, 0.0000, 0.0000, 0.0000, 0.0246, 0.0000, 0.0200, 0.0000, 0.0957,\n",
      "         0.0900],\n",
      "        [0.0000, 0.0000, 0.0000, 0.0000, 0.0246, 0.0000, 0.0200, 0.0000, 0.0957,\n",
      "         0.0900]], grad_fn=<ReluBackward0>)\n",
      "output.size: torch.Size([12, 10])\n"
     ]
    }
   ],
   "source": [
    "if __name__ == '__main__':\n",
    "    net = Net()\n",
    "    print('net: {}'.format(net))\n",
    "    params = net.parameters()   # generator object\n",
    "    print('params: {}'.format(params))\n",
    "    # output_name_and_params(net) #查看權重\n",
    " \n",
    "    input_image = torch.FloatTensor(12, 1, 28, 28)\n",
    " \n",
    "    # pytorch中模型的输入是一个Variable，而且是Variable在图中流动，不是Tensor。\n",
    "    # 这可以从forward中每一步的执行结果可以看出\n",
    "    input_image = Variable(input_image)\n",
    " \n",
    "    output = net(input_image)\n",
    "    print('output: {}'.format(output))\n",
    "    print('output.size: {}'.format(output.size()))\n"
   ]
  },
  {
   "cell_type": "markdown",
   "metadata": {},
   "source": [
    "## Loss function"
   ]
  },
  {
   "cell_type": "code",
   "execution_count": null,
   "metadata": {},
   "outputs": [],
   "source": [
    "criterion = nn.CrossEntropyLoss()\n",
    "loss = criterion(model_output,target)"
   ]
  },
  {
   "cell_type": "markdown",
   "metadata": {},
   "source": [
    "## torch optim\n",
    "https://blog.csdn.net/KGzhang/article/details/77479737"
   ]
  },
  {
   "cell_type": "code",
   "execution_count": null,
   "metadata": {},
   "outputs": [],
   "source": [
    "import torch.optim\n",
    "optimizer = optim.SGD(model.parameters(), lr = 0.01, momentum=0.9)\n",
    "optimizer = optim.Adam([var1, var2], lr = 0.0001)"
   ]
  },
  {
   "cell_type": "code",
   "execution_count": null,
   "metadata": {},
   "outputs": [],
   "source": [
    "optim.SGD([\n",
    "                {'params': model.base.parameters()},\n",
    "                {'params': model.classifier.parameters(), 'lr': 1e-3}\n",
    "            ], lr=1e-2, momentum=0.9)"
   ]
  },
  {
   "cell_type": "markdown",
   "metadata": {},
   "source": [
    "* model.base.parameters()将使用1e-2的学习率\n",
    "* model.classifier.parameters()将使用1e-3的学习率。0.9的momentum作用于所有的parameters。"
   ]
  },
  {
   "cell_type": "markdown",
   "metadata": {},
   "source": [
    "## Loss Function & Optim Example"
   ]
  },
  {
   "cell_type": "code",
   "execution_count": null,
   "metadata": {},
   "outputs": [],
   "source": [
    "for input, target in dataset:\n",
    "    optimizer.zero_grad()\n",
    "    output = model(input)\n",
    "    loss = loss_fn(output, target)\n",
    "    loss.backward()\n",
    "    optimizer.step()"
   ]
  },
  {
   "cell_type": "markdown",
   "metadata": {},
   "source": [
    "# Model save/load"
   ]
  },
  {
   "cell_type": "markdown",
   "metadata": {},
   "source": [
    "## Save/Load Entire Model"
   ]
  },
  {
   "cell_type": "code",
   "execution_count": null,
   "metadata": {},
   "outputs": [],
   "source": [
    "torch.save(model, 'model_pth')"
   ]
  },
  {
   "cell_type": "code",
   "execution_count": null,
   "metadata": {},
   "outputs": [],
   "source": [
    "# Model class must be defined somewhere\n",
    "model = torch.load(PATH)\n",
    "model.eval()"
   ]
  },
  {
   "cell_type": "markdown",
   "metadata": {},
   "source": [
    "## model.state_dict() 儲存的物件是模型的狀態\n",
    "只儲存模型的參數(不儲存結構)"
   ]
  },
  {
   "cell_type": "code",
   "execution_count": null,
   "metadata": {},
   "outputs": [],
   "source": [
    "torch.save(model.state_dict(),'./model_state.pth')"
   ]
  },
  {
   "cell_type": "code",
   "execution_count": null,
   "metadata": {},
   "outputs": [],
   "source": [
    "model.load_state_dic(torch.load('model_state.pth'))"
   ]
  },
  {
   "cell_type": "markdown",
   "metadata": {},
   "source": [
    "## Saving & Loading a General Checkpoint for Inference and/or Resuming Training"
   ]
  },
  {
   "cell_type": "code",
   "execution_count": null,
   "metadata": {},
   "outputs": [],
   "source": [
    "model = TheModelClass(*args, **kwargs)\n",
    "optimizer = TheOptimizerClass(*args, **kwargs)\n",
    "\n",
    "checkpoint = torch.load(PATH)\n",
    "model.load_state_dict(checkpoint[\"model_state_dict\"])\n",
    "optimizer.load_state_dict(checkpoint[\"optimizer_state_dict\"])\n",
    "epoch = checkpoint[\"epoch\"]\n",
    "loss = checkpoint[\"loss\"]\n",
    "\n",
    "model.eval()\n",
    "# --or--\n",
    "model.train()"
   ]
  },
  {
   "cell_type": "markdown",
   "metadata": {},
   "source": [
    "## Save on CPU, Load on GPU"
   ]
  },
  {
   "cell_type": "code",
   "execution_count": null,
   "metadata": {},
   "outputs": [],
   "source": [
    "torch.save(model.state_dict(), PATH)"
   ]
  },
  {
   "cell_type": "code",
   "execution_count": null,
   "metadata": {},
   "outputs": [],
   "source": [
    "device = torch.device(\"cuda\")\n",
    "model = TheModelClass(*args, **kwargs)\n",
    "model.load_state_dict(torch.load(PATH, map_location=\"cuda:0\"))\n",
    "model.to(device)"
   ]
  },
  {
   "cell_type": "markdown",
   "metadata": {},
   "source": [
    "## Saving torch.nn.DataParallel Models"
   ]
  },
  {
   "cell_type": "code",
   "execution_count": null,
   "metadata": {},
   "outputs": [],
   "source": [
    "torch.save(model.module.state_dict(), PATH)"
   ]
  },
  {
   "cell_type": "code",
   "execution_count": 12,
   "metadata": {},
   "outputs": [],
   "source": [
    "# Load to whatever device you want"
   ]
  },
  {
   "cell_type": "code",
   "execution_count": null,
   "metadata": {},
   "outputs": [],
   "source": []
  }
 ],
 "metadata": {
  "kernelspec": {
   "display_name": "Python 3",
   "language": "python",
   "name": "python3"
  },
  "language_info": {
   "codemirror_mode": {
    "name": "ipython",
    "version": 3
   },
   "file_extension": ".py",
   "mimetype": "text/x-python",
   "name": "python",
   "nbconvert_exporter": "python",
   "pygments_lexer": "ipython3",
   "version": "3.6.7"
  }
 },
 "nbformat": 4,
 "nbformat_minor": 4
}
