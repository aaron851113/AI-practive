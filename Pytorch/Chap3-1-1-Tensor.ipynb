{
 "cells": [
  {
   "cell_type": "markdown",
   "metadata": {},
   "source": [
    "## 3.1.1 Tensor"
   ]
  },
  {
   "cell_type": "code",
   "execution_count": 1,
   "metadata": {},
   "outputs": [],
   "source": [
    "import torch"
   ]
  },
  {
   "cell_type": "markdown",
   "metadata": {},
   "source": [
    "* torch.Tensor()\n",
    "* Tensor.size()"
   ]
  },
  {
   "cell_type": "code",
   "execution_count": 6,
   "metadata": {},
   "outputs": [
    {
     "name": "stdout",
     "output_type": "stream",
     "text": [
      "a is : tensor([[2., 3.],\n",
      "        [4., 8.],\n",
      "        [7., 9.]])\n",
      "a size : torch.Size([3, 2])\n"
     ]
    }
   ],
   "source": [
    "a = torch.Tensor([[2,3], [4,8], [7,9]])\n",
    "print('a is : {}'.format(a))\n",
    "print('a size : {}'.format(a.size())) #Tensor.size() "
   ]
  },
  {
   "cell_type": "markdown",
   "metadata": {},
   "source": [
    "* torch.LongTensor"
   ]
  },
  {
   "cell_type": "code",
   "execution_count": 8,
   "metadata": {},
   "outputs": [
    {
     "name": "stdout",
     "output_type": "stream",
     "text": [
      "b is : tensor([[2, 3],\n",
      "        [4, 8],\n",
      "        [7, 9]])\n",
      "b size : torch.Size([3, 2])\n"
     ]
    }
   ],
   "source": [
    "b = torch.LongTensor([[2,3],[4,8],[7,9]])\n",
    "print('b is : {}'.format(b))\n",
    "print('b size : {}'.format(b.size())) #Tensor.size() "
   ]
  },
  {
   "cell_type": "markdown",
   "metadata": {},
   "source": [
    "* torch.zeros((row,col))\n",
    "* torch.radn((row,col)) "
   ]
  },
  {
   "cell_type": "code",
   "execution_count": 15,
   "metadata": {},
   "outputs": [
    {
     "name": "stdout",
     "output_type": "stream",
     "text": [
      "zero tensor : tensor([[0., 0.],\n",
      "        [0., 0.],\n",
      "        [0., 0.]])\n",
      "random tensor : tensor([[ 1.4026,  0.5153],\n",
      "        [-0.1872,  1.3136],\n",
      "        [ 0.4185,  0.5469]])\n"
     ]
    }
   ],
   "source": [
    "c = torch.zeros((3,2))\n",
    "print('zero tensor : {}'.format(c))\n",
    "d = torch.randn((3,2))\n",
    "print('random tensor : {}'.format(d))"
   ]
  },
  {
   "cell_type": "markdown",
   "metadata": {},
   "source": [
    "Change Value like Numpy"
   ]
  },
  {
   "cell_type": "code",
   "execution_count": 17,
   "metadata": {},
   "outputs": [
    {
     "name": "stdout",
     "output_type": "stream",
     "text": [
      "a is : tensor([[  2., 100.],\n",
      "        [  4.,   8.],\n",
      "        [  7.,   9.]])\n"
     ]
    }
   ],
   "source": [
    "a[0,1] = 100 \n",
    "print('a is : {}'.format(a))"
   ]
  },
  {
   "cell_type": "markdown",
   "metadata": {},
   "source": [
    "* torh.Tensor to Numpy.ndarray : Tensor.numpy()\n",
    "* Numpy to torch.Tensor : torch.from_numpy(ndarray)\n",
    "* Change Tensor type : Tensor.Type()"
   ]
  },
  {
   "cell_type": "code",
   "execution_count": 23,
   "metadata": {},
   "outputs": [
    {
     "name": "stdout",
     "output_type": "stream",
     "text": [
      "Convert to numpy is [[2 3]\n",
      " [4 8]\n",
      " [7 9]]\n",
      "Convert to Tecsor is tensor([[2, 3],\n",
      "        [4, 5]])\n",
      "Change Tensor int type to float tensor([[2., 3.],\n",
      "        [4., 5.]])\n"
     ]
    }
   ],
   "source": [
    "import numpy as np\n",
    "\n",
    "numpy_b = b.numpy()\n",
    "print('Convert to numpy is {}'.format(numpy_b))\n",
    "\n",
    "e = np.array([[2,3],[4,5]])\n",
    "torch_e = torch.from_numpy(e)\n",
    "print('Convert to Tecsor is {}'.format(torch_e))\n",
    "\n",
    "f_torch_e = torch_e.float()\n",
    "print('Change Tensor int type to float {}'.format(f_torch_e))"
   ]
  },
  {
   "cell_type": "markdown",
   "metadata": {},
   "source": [
    "* Tensor to GPU : Tensor.cuda(default=0)\n",
    "* If Multi-GPUs Choose GPU : Tensor.cuda(GPU number)"
   ]
  },
  {
   "cell_type": "code",
   "execution_count": 29,
   "metadata": {},
   "outputs": [
    {
     "name": "stdout",
     "output_type": "stream",
     "text": [
      "tensor([[  2., 100.],\n",
      "        [  4.,   8.],\n",
      "        [  7.,   9.]], device='cuda:0')\n",
      "tensor([[  2., 100.],\n",
      "        [  4.,   8.],\n",
      "        [  7.,   9.]], device='cuda:1')\n"
     ]
    }
   ],
   "source": [
    "if torch.cuda.is_available():\n",
    "    a_cuda = a.cuda()\n",
    "    print(a_cuda)\n",
    "    a_cuda = a.cuda(1)\n",
    "    print(a_cuda)"
   ]
  },
  {
   "cell_type": "code",
   "execution_count": null,
   "metadata": {},
   "outputs": [],
   "source": []
  },
  {
   "cell_type": "markdown",
   "metadata": {},
   "source": [
    "### Squeeze"
   ]
  },
  {
   "cell_type": "code",
   "execution_count": 1,
   "metadata": {},
   "outputs": [],
   "source": [
    "a = [[0, 0, 0, 0, 150528, 0]]"
   ]
  },
  {
   "cell_type": "code",
   "execution_count": null,
   "metadata": {},
   "outputs": [],
   "source": []
  }
 ],
 "metadata": {
  "kernelspec": {
   "display_name": "Python 3",
   "language": "python",
   "name": "python3"
  },
  "language_info": {
   "codemirror_mode": {
    "name": "ipython",
    "version": 3
   },
   "file_extension": ".py",
   "mimetype": "text/x-python",
   "name": "python",
   "nbconvert_exporter": "python",
   "pygments_lexer": "ipython3",
   "version": "3.6.7"
  }
 },
 "nbformat": 4,
 "nbformat_minor": 4
}
