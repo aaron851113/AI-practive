{
 "cells": [
  {
   "cell_type": "markdown",
   "metadata": {},
   "source": [
    "### 0. Tutorials\n",
    "https://medium.com/data-scientists-playground/lstm-%E6%B7%B1%E5%BA%A6%E5%AD%B8%E7%BF%92-%E8%82%A1%E5%83%B9%E9%A0%90%E6%B8%AC-cd72af64413a"
   ]
  },
  {
   "cell_type": "markdown",
   "metadata": {},
   "source": [
    "#### bidirectional 雙向\n",
    "![](https://i.imgur.com/XKaKiVp.png)"
   ]
  },
  {
   "cell_type": "markdown",
   "metadata": {},
   "source": [
    "#### num_layers\n",
    "![](https://i.imgur.com/WVdo5fZ.png)"
   ]
  },
  {
   "cell_type": "markdown",
   "metadata": {},
   "source": [
    "#### input (batch , time step , hidden layer)\n",
    "- 以下範例為 time_step=2 hidden_layer=5\n",
    "- word2vec後\n",
    "    - 第一句 [0 , 0 , 1, 1 ,0]\n",
    "    - 第二句 [1 , 1 , 1, 0 ,0]\n",
    "- time_step =　句子數量　ｏｒ　時序性資料筆數\n",
    "- hidden layer = LSTM cell 內部的unit數　=　500　\n",
    "- hidden layer = word to vector 後的向量維度\n",
    "    \n",
    "![](https://i.imgur.com/rpsEHfj.png)"
   ]
  },
  {
   "cell_type": "markdown",
   "metadata": {},
   "source": [
    "### 1. Module"
   ]
  },
  {
   "cell_type": "code",
   "execution_count": 1,
   "metadata": {},
   "outputs": [],
   "source": [
    "import torch\n",
    "from torch import nn\n",
    "from torch.autograd import Variable\n",
    "import torchvision.datasets as dsets\n",
    "import torchvision.transforms as transforms\n",
    "import matplotlib.pyplot as plt"
   ]
  },
  {
   "cell_type": "code",
   "execution_count": 2,
   "metadata": {},
   "outputs": [
    {
     "data": {
      "text/plain": [
       "<torch._C.Generator at 0x7f6ceab131d0>"
      ]
     },
     "execution_count": 2,
     "metadata": {},
     "output_type": "execute_result"
    }
   ],
   "source": [
    "torch.manual_seed(1)"
   ]
  },
  {
   "cell_type": "code",
   "execution_count": 3,
   "metadata": {},
   "outputs": [
    {
     "data": {
      "text/plain": [
       "device(type='cuda', index=0)"
      ]
     },
     "execution_count": 3,
     "metadata": {},
     "output_type": "execute_result"
    }
   ],
   "source": [
    "device = torch.device(\"cuda:0\" if torch.cuda.is_available() else \"cpu\")\n",
    "device"
   ]
  },
  {
   "cell_type": "markdown",
   "metadata": {},
   "source": [
    "### 2. Hypermeters "
   ]
  },
  {
   "cell_type": "code",
   "execution_count": 4,
   "metadata": {},
   "outputs": [],
   "source": [
    "num_epochs = 10\n",
    "batch_size = 64\n",
    "\n",
    "TIME_STEP = 28        # rnn time step, 即图片的高\n",
    "INPUT_SIZE = 28       # rnn input size, 即图片的宽\n",
    "HIDDEN_SIZE = 64\n",
    "NUM_LAYERS = 2\n",
    "NUM_CLASSES = 10\n",
    "BIDIRECTIONAL = True  # 是否开启双向\n",
    "\n",
    "learning_rate = 0.01"
   ]
  },
  {
   "cell_type": "markdown",
   "metadata": {},
   "source": [
    "### 3. Load Data"
   ]
  },
  {
   "cell_type": "code",
   "execution_count": 5,
   "metadata": {},
   "outputs": [],
   "source": [
    "train_data = dsets.MNIST(root='./mnist/' ,train=True ,transform=transforms.ToTensor() ,download=True)\n",
    "train_loader = torch.utils.data.DataLoader(dataset=train_data, batch_size=batch_size, shuffle=True)"
   ]
  },
  {
   "cell_type": "code",
   "execution_count": 6,
   "metadata": {},
   "outputs": [
    {
     "name": "stdout",
     "output_type": "stream",
     "text": [
      "torch.Size([60000, 28, 28])\n",
      "torch.Size([60000])\n"
     ]
    },
    {
     "name": "stderr",
     "output_type": "stream",
     "text": [
      "/opt/conda/lib/python3.6/site-packages/torchvision/datasets/mnist.py:53: UserWarning: train_data has been renamed data\n",
      "  warnings.warn(\"train_data has been renamed data\")\n"
     ]
    },
    {
     "data": {
      "image/png": "[encoded data removed]",
      "text/plain": [
       "<Figure size 432x288 with 1 Axes>"
      ]
     },
     "metadata": {
      "needs_background": "light"
     },
     "output_type": "display_data"
    }
   ],
   "source": [
    "# 看一下数据\n",
    "print(train_data.train_data.size())    # (60000, 28, 28)\n",
    "print(train_data.targets.size())  # (60000)\n",
    "plt.imshow(train_data.train_data[0].numpy(), cmap='gray')\n",
    "plt.title('%i' % train_data.targets[0])\n",
    "plt.show()"
   ]
  },
  {
   "cell_type": "code",
   "execution_count": 7,
   "metadata": {},
   "outputs": [
    {
     "name": "stderr",
     "output_type": "stream",
     "text": [
      "/opt/conda/lib/python3.6/site-packages/torchvision/datasets/mnist.py:58: UserWarning: test_data has been renamed data\n",
      "  warnings.warn(\"test_data has been renamed data\")\n"
     ]
    }
   ],
   "source": [
    "test_data = dsets.MNIST(root='./mnist/' ,train=False ,transform=transforms.ToTensor())\n",
    "test_x = Variable(test_data.test_data).type(torch.FloatTensor)[:2000] / 255.\n",
    "test_y = test_data.targets[:2000].data.numpy()"
   ]
  },
  {
   "cell_type": "code",
   "execution_count": 8,
   "metadata": {},
   "outputs": [
    {
     "name": "stdout",
     "output_type": "stream",
     "text": [
      "Cuda State : True\n"
     ]
    }
   ],
   "source": [
    "print(\"Cuda State :\",torch.cuda.is_available())\n",
    "if torch.cuda.is_available():\n",
    "    test_x = test_x.view(-1, 28, 28).to(device)"
   ]
  },
  {
   "cell_type": "markdown",
   "metadata": {},
   "source": [
    "### 4. LSTM Module"
   ]
  },
  {
   "cell_type": "code",
   "execution_count": 9,
   "metadata": {},
   "outputs": [],
   "source": [
    "class RNN(nn.Module):\n",
    "    def __init__(self, input_size, hidden_size, num_layers, num_classes, bidirectional):\n",
    "        super(RNN, self).__init__()\n",
    "        \n",
    "        self.rnn = nn.LSTM(\n",
    "            input_size = input_size,\n",
    "            hidden_size = hidden_size,\n",
    "            num_layers=num_layers,\n",
    "            batch_first = True, # 第一个维度设为 batch, 即:(batch, time_step, input_size)\n",
    "            bidirectional=bidirectional  # 是否用双向 (True/False)\n",
    "        )\n",
    "        self.out = nn.Linear(hidden_size*2 ,num_classes) if bidirectional else nn.Linear(hidden_size, num_classes)\n",
    "    \n",
    "    def forward(self, x):\n",
    "        # x: (batch, time_step, input_size)\n",
    "        # r_out: (batch, time_step, output_size)\n",
    "        # h_n: (n_layers, batch, hidden_size)\n",
    "        # h_c: (n_layers, batch, hidden_size)\n",
    "        r_out, (h_n, h_c) = self.rnn(x, None)  # None即隐层状态用0初始化\n",
    "                \n",
    "        # 我们只需要最后一步的输出, 即(batch, -1, output_size)\n",
    "        out = self.out(r_out[:, -1, :])\n",
    "        \n",
    "        return out   "
   ]
  },
  {
   "cell_type": "code",
   "execution_count": 10,
   "metadata": {},
   "outputs": [
    {
     "name": "stdout",
     "output_type": "stream",
     "text": [
      "RNN(\n",
      "  (rnn): LSTM(28, 64, num_layers=2, batch_first=True, bidirectional=True)\n",
      "  (out): Linear(in_features=128, out_features=10, bias=True)\n",
      ")\n"
     ]
    }
   ],
   "source": [
    "rnn = RNN(\n",
    "    input_size=INPUT_SIZE,\n",
    "    hidden_size=HIDDEN_SIZE,\n",
    "    num_layers=NUM_LAYERS,\n",
    "    num_classes=NUM_CLASSES,\n",
    "    bidirectional=BIDIRECTIONAL\n",
    ")\n",
    "print(rnn)\n",
    "\n",
    "if torch.cuda.is_available():\n",
    "    rnn = rnn.cuda()"
   ]
  },
  {
   "cell_type": "code",
   "execution_count": 11,
   "metadata": {},
   "outputs": [],
   "source": [
    "optimizer = torch.optim.Adam(rnn.parameters(), lr=learning_rate)\n",
    "loss_func = nn.CrossEntropyLoss()"
   ]
  },
  {
   "cell_type": "markdown",
   "metadata": {},
   "source": [
    "### 5. Training"
   ]
  },
  {
   "cell_type": "code",
   "execution_count": 12,
   "metadata": {},
   "outputs": [
    {
     "name": "stdout",
     "output_type": "stream",
     "text": [
      "epoch:  0 | train loss: 0.0296 | test accuracy: 0.96\n",
      "epoch:  1 | train loss: 0.0939 | test accuracy: 0.96\n",
      "epoch:  2 | train loss: 0.0402 | test accuracy: 0.97\n",
      "epoch:  3 | train loss: 0.3785 | test accuracy: 0.97\n",
      "epoch:  4 | train loss: 0.0245 | test accuracy: 0.97\n",
      "epoch:  5 | train loss: 0.2366 | test accuracy: 0.97\n",
      "epoch:  6 | train loss: 0.0168 | test accuracy: 0.96\n",
      "epoch:  7 | train loss: 0.2185 | test accuracy: 0.97\n",
      "epoch:  8 | train loss: 0.3539 | test accuracy: 0.97\n",
      "epoch:  9 | train loss: 0.0992 | test accuracy: 0.97\n"
     ]
    }
   ],
   "source": [
    "for epoch in range (num_epochs):\n",
    "    for step, (x,y) in enumerate(train_loader): #batch_size (iteration)\n",
    "        b_x =  b_x = x.view(-1, 28, 28).to(device)\n",
    "        b_y = y.to(device)\n",
    "        \n",
    "         # Clear all accumulated gradients\n",
    "        optimizer.zero_grad()\n",
    "        output = rnn(b_x)\n",
    "        loss = loss_func(output, b_y) # Compute the loss based on the predictions and actual labels\n",
    "        loss.backward() # Backpropagate the loss\n",
    "        \n",
    "        optimizer.step()  # Adjust parameters according to the computed gradients\n",
    "        \n",
    "    test_output = rnn(test_x)\n",
    "    pred_y = torch.max(test_output, dim=1)[1].data.cpu().numpy().squeeze()\n",
    "    accuracy = sum(pred_y == test_y) / len(test_y)\n",
    "    print('epoch: ', epoch, '| train loss: %.4f' % loss,'| test accuracy: %.2f' % accuracy)\n"
   ]
  },
  {
   "cell_type": "code",
   "execution_count": 13,
   "metadata": {},
   "outputs": [
    {
     "name": "stdout",
     "output_type": "stream",
     "text": [
      "LSTM Mnist Accuracy : 0.9685\n"
     ]
    }
   ],
   "source": [
    "# 看一下10个结果\n",
    "test_output = rnn(test_x.view(-1, 28, 28))\n",
    "pred_y = torch.max(test_output, 1)[1].data.cpu().numpy().squeeze()\n",
    "acc = sum(pred_y == test_y) / len(test_y)\n",
    "\n",
    "print(\"LSTM Mnist Accuracy :\",acc)\n"
   ]
  },
  {
   "cell_type": "code",
   "execution_count": null,
   "metadata": {},
   "outputs": [],
   "source": []
  }
 ],
 "metadata": {
  "kernelspec": {
   "display_name": "Python 3",
   "language": "python",
   "name": "python3"
  },
  "language_info": {
   "codemirror_mode": {
    "name": "ipython",
    "version": 3
   },
   "file_extension": ".py",
   "mimetype": "text/x-python",
   "name": "python",
   "nbconvert_exporter": "python",
   "pygments_lexer": "ipython3",
   "version": "3.6.7"
  }
 },
 "nbformat": 4,
 "nbformat_minor": 4
}
